{
 "cells": [
  {
   "cell_type": "markdown",
   "metadata": {},
   "source": [
    "# USA Housing Data Analysis\n",
    "## Marshall Ferguson - 2/2022"
   ]
  },
  {
   "cell_type": "code",
   "execution_count": 1,
   "metadata": {},
   "outputs": [],
   "source": [
    "# Imports\n",
    "\n",
    "import matplotlib.pyplot as plt\n",
    "import numpy as np\n",
    "import pandas as pd\n",
    "import seaborn as sns"
   ]
  },
  {
   "cell_type": "code",
   "execution_count": 2,
   "metadata": {},
   "outputs": [
    {
     "data": {
      "text/html": [
       "<div>\n",
       "<style scoped>\n",
       "    .dataframe tbody tr th:only-of-type {\n",
       "        vertical-align: middle;\n",
       "    }\n",
       "\n",
       "    .dataframe tbody tr th {\n",
       "        vertical-align: top;\n",
       "    }\n",
       "\n",
       "    .dataframe thead th {\n",
       "        text-align: right;\n",
       "    }\n",
       "</style>\n",
       "<table border=\"1\" class=\"dataframe\">\n",
       "  <thead>\n",
       "    <tr style=\"text-align: right;\">\n",
       "      <th></th>\n",
       "      <th>id</th>\n",
       "      <th>url</th>\n",
       "      <th>region</th>\n",
       "      <th>region_url</th>\n",
       "      <th>price</th>\n",
       "      <th>type</th>\n",
       "      <th>sqfeet</th>\n",
       "      <th>beds</th>\n",
       "      <th>baths</th>\n",
       "      <th>cats_allowed</th>\n",
       "      <th>...</th>\n",
       "      <th>wheelchair_access</th>\n",
       "      <th>electric_vehicle_charge</th>\n",
       "      <th>comes_furnished</th>\n",
       "      <th>laundry_options</th>\n",
       "      <th>parking_options</th>\n",
       "      <th>image_url</th>\n",
       "      <th>description</th>\n",
       "      <th>lat</th>\n",
       "      <th>long</th>\n",
       "      <th>state</th>\n",
       "    </tr>\n",
       "  </thead>\n",
       "  <tbody>\n",
       "    <tr>\n",
       "      <th>0</th>\n",
       "      <td>7049044568</td>\n",
       "      <td>https://reno.craigslist.org/apa/d/reno-beautif...</td>\n",
       "      <td>reno / tahoe</td>\n",
       "      <td>https://reno.craigslist.org</td>\n",
       "      <td>1148</td>\n",
       "      <td>apartment</td>\n",
       "      <td>1078</td>\n",
       "      <td>3</td>\n",
       "      <td>2.0</td>\n",
       "      <td>1</td>\n",
       "      <td>...</td>\n",
       "      <td>0</td>\n",
       "      <td>0</td>\n",
       "      <td>0</td>\n",
       "      <td>w/d in unit</td>\n",
       "      <td>carport</td>\n",
       "      <td>https://images.craigslist.org/01616_daghmBUvTC...</td>\n",
       "      <td>Ridgeview by Vintage is where you will find al...</td>\n",
       "      <td>39.5483</td>\n",
       "      <td>-119.796</td>\n",
       "      <td>ca</td>\n",
       "    </tr>\n",
       "    <tr>\n",
       "      <th>1</th>\n",
       "      <td>7049047186</td>\n",
       "      <td>https://reno.craigslist.org/apa/d/reno-reduced...</td>\n",
       "      <td>reno / tahoe</td>\n",
       "      <td>https://reno.craigslist.org</td>\n",
       "      <td>1200</td>\n",
       "      <td>condo</td>\n",
       "      <td>1001</td>\n",
       "      <td>2</td>\n",
       "      <td>2.0</td>\n",
       "      <td>0</td>\n",
       "      <td>...</td>\n",
       "      <td>0</td>\n",
       "      <td>0</td>\n",
       "      <td>0</td>\n",
       "      <td>w/d hookups</td>\n",
       "      <td>carport</td>\n",
       "      <td>https://images.craigslist.org/00V0V_5va0MkgO9q...</td>\n",
       "      <td>Conveniently located in the middle town of Ren...</td>\n",
       "      <td>39.5026</td>\n",
       "      <td>-119.789</td>\n",
       "      <td>ca</td>\n",
       "    </tr>\n",
       "    <tr>\n",
       "      <th>2</th>\n",
       "      <td>7043634882</td>\n",
       "      <td>https://reno.craigslist.org/apa/d/sparks-state...</td>\n",
       "      <td>reno / tahoe</td>\n",
       "      <td>https://reno.craigslist.org</td>\n",
       "      <td>1813</td>\n",
       "      <td>apartment</td>\n",
       "      <td>1683</td>\n",
       "      <td>2</td>\n",
       "      <td>2.0</td>\n",
       "      <td>1</td>\n",
       "      <td>...</td>\n",
       "      <td>0</td>\n",
       "      <td>0</td>\n",
       "      <td>0</td>\n",
       "      <td>w/d in unit</td>\n",
       "      <td>attached garage</td>\n",
       "      <td>https://images.craigslist.org/00t0t_erYqC6LgB8...</td>\n",
       "      <td>2BD | 2BA | 1683SQFTDiscover exceptional servi...</td>\n",
       "      <td>39.6269</td>\n",
       "      <td>-119.708</td>\n",
       "      <td>ca</td>\n",
       "    </tr>\n",
       "    <tr>\n",
       "      <th>3</th>\n",
       "      <td>7049045324</td>\n",
       "      <td>https://reno.craigslist.org/apa/d/reno-1x1-fir...</td>\n",
       "      <td>reno / tahoe</td>\n",
       "      <td>https://reno.craigslist.org</td>\n",
       "      <td>1095</td>\n",
       "      <td>apartment</td>\n",
       "      <td>708</td>\n",
       "      <td>1</td>\n",
       "      <td>1.0</td>\n",
       "      <td>1</td>\n",
       "      <td>...</td>\n",
       "      <td>0</td>\n",
       "      <td>0</td>\n",
       "      <td>0</td>\n",
       "      <td>w/d in unit</td>\n",
       "      <td>carport</td>\n",
       "      <td>https://images.craigslist.org/00303_3HSJz75zlI...</td>\n",
       "      <td>MOVE IN SPECIAL FREE WASHER/DRYER WITH 6 OR 12...</td>\n",
       "      <td>39.4477</td>\n",
       "      <td>-119.771</td>\n",
       "      <td>ca</td>\n",
       "    </tr>\n",
       "    <tr>\n",
       "      <th>4</th>\n",
       "      <td>7049043759</td>\n",
       "      <td>https://reno.craigslist.org/apa/d/reno-no-long...</td>\n",
       "      <td>reno / tahoe</td>\n",
       "      <td>https://reno.craigslist.org</td>\n",
       "      <td>289</td>\n",
       "      <td>apartment</td>\n",
       "      <td>250</td>\n",
       "      <td>0</td>\n",
       "      <td>1.0</td>\n",
       "      <td>1</td>\n",
       "      <td>...</td>\n",
       "      <td>1</td>\n",
       "      <td>0</td>\n",
       "      <td>1</td>\n",
       "      <td>laundry on site</td>\n",
       "      <td>NaN</td>\n",
       "      <td>https://images.craigslist.org/01616_fALAWFV8zQ...</td>\n",
       "      <td>Move In Today: Reno Low-Cost, Clean &amp; Furnishe...</td>\n",
       "      <td>39.5357</td>\n",
       "      <td>-119.805</td>\n",
       "      <td>ca</td>\n",
       "    </tr>\n",
       "  </tbody>\n",
       "</table>\n",
       "<p>5 rows × 22 columns</p>\n",
       "</div>"
      ],
      "text/plain": [
       "           id                                                url  \\\n",
       "0  7049044568  https://reno.craigslist.org/apa/d/reno-beautif...   \n",
       "1  7049047186  https://reno.craigslist.org/apa/d/reno-reduced...   \n",
       "2  7043634882  https://reno.craigslist.org/apa/d/sparks-state...   \n",
       "3  7049045324  https://reno.craigslist.org/apa/d/reno-1x1-fir...   \n",
       "4  7049043759  https://reno.craigslist.org/apa/d/reno-no-long...   \n",
       "\n",
       "         region                   region_url  price       type  sqfeet  beds  \\\n",
       "0  reno / tahoe  https://reno.craigslist.org   1148  apartment    1078     3   \n",
       "1  reno / tahoe  https://reno.craigslist.org   1200      condo    1001     2   \n",
       "2  reno / tahoe  https://reno.craigslist.org   1813  apartment    1683     2   \n",
       "3  reno / tahoe  https://reno.craigslist.org   1095  apartment     708     1   \n",
       "4  reno / tahoe  https://reno.craigslist.org    289  apartment     250     0   \n",
       "\n",
       "   baths  cats_allowed  ...  wheelchair_access  electric_vehicle_charge  \\\n",
       "0    2.0             1  ...                  0                        0   \n",
       "1    2.0             0  ...                  0                        0   \n",
       "2    2.0             1  ...                  0                        0   \n",
       "3    1.0             1  ...                  0                        0   \n",
       "4    1.0             1  ...                  1                        0   \n",
       "\n",
       "   comes_furnished  laundry_options  parking_options  \\\n",
       "0                0      w/d in unit          carport   \n",
       "1                0      w/d hookups          carport   \n",
       "2                0      w/d in unit  attached garage   \n",
       "3                0      w/d in unit          carport   \n",
       "4                1  laundry on site              NaN   \n",
       "\n",
       "                                           image_url  \\\n",
       "0  https://images.craigslist.org/01616_daghmBUvTC...   \n",
       "1  https://images.craigslist.org/00V0V_5va0MkgO9q...   \n",
       "2  https://images.craigslist.org/00t0t_erYqC6LgB8...   \n",
       "3  https://images.craigslist.org/00303_3HSJz75zlI...   \n",
       "4  https://images.craigslist.org/01616_fALAWFV8zQ...   \n",
       "\n",
       "                                         description      lat     long  state  \n",
       "0  Ridgeview by Vintage is where you will find al...  39.5483 -119.796     ca  \n",
       "1  Conveniently located in the middle town of Ren...  39.5026 -119.789     ca  \n",
       "2  2BD | 2BA | 1683SQFTDiscover exceptional servi...  39.6269 -119.708     ca  \n",
       "3  MOVE IN SPECIAL FREE WASHER/DRYER WITH 6 OR 12...  39.4477 -119.771     ca  \n",
       "4  Move In Today: Reno Low-Cost, Clean & Furnishe...  39.5357 -119.805     ca  \n",
       "\n",
       "[5 rows x 22 columns]"
      ]
     },
     "execution_count": 2,
     "metadata": {},
     "output_type": "execute_result"
    }
   ],
   "source": [
    "# Import data\n",
    "\n",
    "df_full = pd.read_csv('data\\housing.csv')\n",
    "\n",
    "df_full.head()"
   ]
  },
  {
   "cell_type": "markdown",
   "metadata": {},
   "source": [
    "The next few cells will give us a bit of an overview of the data."
   ]
  },
  {
   "cell_type": "code",
   "execution_count": 3,
   "metadata": {},
   "outputs": [
    {
     "data": {
      "text/plain": [
       "(384977, 22)"
      ]
     },
     "execution_count": 3,
     "metadata": {},
     "output_type": "execute_result"
    }
   ],
   "source": [
    "df_full.shape"
   ]
  },
  {
   "cell_type": "code",
   "execution_count": 4,
   "metadata": {},
   "outputs": [
    {
     "data": {
      "text/plain": [
       "id                           int64\n",
       "url                         object\n",
       "region                      object\n",
       "region_url                  object\n",
       "price                        int64\n",
       "type                        object\n",
       "sqfeet                       int64\n",
       "beds                         int64\n",
       "baths                      float64\n",
       "cats_allowed                 int64\n",
       "dogs_allowed                 int64\n",
       "smoking_allowed              int64\n",
       "wheelchair_access            int64\n",
       "electric_vehicle_charge      int64\n",
       "comes_furnished              int64\n",
       "laundry_options             object\n",
       "parking_options             object\n",
       "image_url                   object\n",
       "description                 object\n",
       "lat                        float64\n",
       "long                       float64\n",
       "state                       object\n",
       "dtype: object"
      ]
     },
     "execution_count": 4,
     "metadata": {},
     "output_type": "execute_result"
    }
   ],
   "source": [
    "df_full.dtypes"
   ]
  },
  {
   "cell_type": "code",
   "execution_count": 5,
   "metadata": {},
   "outputs": [
    {
     "data": {
      "text/html": [
       "<div>\n",
       "<style scoped>\n",
       "    .dataframe tbody tr th:only-of-type {\n",
       "        vertical-align: middle;\n",
       "    }\n",
       "\n",
       "    .dataframe tbody tr th {\n",
       "        vertical-align: top;\n",
       "    }\n",
       "\n",
       "    .dataframe thead th {\n",
       "        text-align: right;\n",
       "    }\n",
       "</style>\n",
       "<table border=\"1\" class=\"dataframe\">\n",
       "  <thead>\n",
       "    <tr style=\"text-align: right;\">\n",
       "      <th></th>\n",
       "      <th>id</th>\n",
       "      <th>price</th>\n",
       "      <th>sqfeet</th>\n",
       "      <th>beds</th>\n",
       "      <th>baths</th>\n",
       "      <th>cats_allowed</th>\n",
       "      <th>dogs_allowed</th>\n",
       "      <th>smoking_allowed</th>\n",
       "      <th>wheelchair_access</th>\n",
       "      <th>electric_vehicle_charge</th>\n",
       "      <th>comes_furnished</th>\n",
       "      <th>lat</th>\n",
       "      <th>long</th>\n",
       "    </tr>\n",
       "  </thead>\n",
       "  <tbody>\n",
       "    <tr>\n",
       "      <th>count</th>\n",
       "      <td>3.849770e+05</td>\n",
       "      <td>3.849770e+05</td>\n",
       "      <td>3.849770e+05</td>\n",
       "      <td>384977.000000</td>\n",
       "      <td>384977.000000</td>\n",
       "      <td>384977.000000</td>\n",
       "      <td>384977.000000</td>\n",
       "      <td>384977.000000</td>\n",
       "      <td>384977.000000</td>\n",
       "      <td>384977.000000</td>\n",
       "      <td>384977.000000</td>\n",
       "      <td>383059.000000</td>\n",
       "      <td>383059.000000</td>\n",
       "    </tr>\n",
       "    <tr>\n",
       "      <th>mean</th>\n",
       "      <td>7.040982e+09</td>\n",
       "      <td>8.825722e+03</td>\n",
       "      <td>1.059900e+03</td>\n",
       "      <td>1.905345</td>\n",
       "      <td>1.480718</td>\n",
       "      <td>0.726890</td>\n",
       "      <td>0.707918</td>\n",
       "      <td>0.731771</td>\n",
       "      <td>0.082111</td>\n",
       "      <td>0.012871</td>\n",
       "      <td>0.048128</td>\n",
       "      <td>37.233487</td>\n",
       "      <td>-92.700631</td>\n",
       "    </tr>\n",
       "    <tr>\n",
       "      <th>std</th>\n",
       "      <td>8.800376e+06</td>\n",
       "      <td>4.462200e+06</td>\n",
       "      <td>1.915076e+04</td>\n",
       "      <td>3.494572</td>\n",
       "      <td>0.618061</td>\n",
       "      <td>0.445557</td>\n",
       "      <td>0.454721</td>\n",
       "      <td>0.443038</td>\n",
       "      <td>0.274535</td>\n",
       "      <td>0.112718</td>\n",
       "      <td>0.214036</td>\n",
       "      <td>5.546171</td>\n",
       "      <td>16.531980</td>\n",
       "    </tr>\n",
       "    <tr>\n",
       "      <th>min</th>\n",
       "      <td>7.003808e+09</td>\n",
       "      <td>0.000000e+00</td>\n",
       "      <td>0.000000e+00</td>\n",
       "      <td>0.000000</td>\n",
       "      <td>0.000000</td>\n",
       "      <td>0.000000</td>\n",
       "      <td>0.000000</td>\n",
       "      <td>0.000000</td>\n",
       "      <td>0.000000</td>\n",
       "      <td>0.000000</td>\n",
       "      <td>0.000000</td>\n",
       "      <td>-43.533300</td>\n",
       "      <td>-163.894000</td>\n",
       "    </tr>\n",
       "    <tr>\n",
       "      <th>25%</th>\n",
       "      <td>7.035979e+09</td>\n",
       "      <td>8.050000e+02</td>\n",
       "      <td>7.500000e+02</td>\n",
       "      <td>1.000000</td>\n",
       "      <td>1.000000</td>\n",
       "      <td>0.000000</td>\n",
       "      <td>0.000000</td>\n",
       "      <td>0.000000</td>\n",
       "      <td>0.000000</td>\n",
       "      <td>0.000000</td>\n",
       "      <td>0.000000</td>\n",
       "      <td>33.454700</td>\n",
       "      <td>-100.775000</td>\n",
       "    </tr>\n",
       "    <tr>\n",
       "      <th>50%</th>\n",
       "      <td>7.043320e+09</td>\n",
       "      <td>1.036000e+03</td>\n",
       "      <td>9.490000e+02</td>\n",
       "      <td>2.000000</td>\n",
       "      <td>1.000000</td>\n",
       "      <td>1.000000</td>\n",
       "      <td>1.000000</td>\n",
       "      <td>1.000000</td>\n",
       "      <td>0.000000</td>\n",
       "      <td>0.000000</td>\n",
       "      <td>0.000000</td>\n",
       "      <td>37.647800</td>\n",
       "      <td>-87.745100</td>\n",
       "    </tr>\n",
       "    <tr>\n",
       "      <th>75%</th>\n",
       "      <td>7.048426e+09</td>\n",
       "      <td>1.395000e+03</td>\n",
       "      <td>1.150000e+03</td>\n",
       "      <td>2.000000</td>\n",
       "      <td>2.000000</td>\n",
       "      <td>1.000000</td>\n",
       "      <td>1.000000</td>\n",
       "      <td>1.000000</td>\n",
       "      <td>0.000000</td>\n",
       "      <td>0.000000</td>\n",
       "      <td>0.000000</td>\n",
       "      <td>41.138300</td>\n",
       "      <td>-81.179600</td>\n",
       "    </tr>\n",
       "    <tr>\n",
       "      <th>max</th>\n",
       "      <td>7.051292e+09</td>\n",
       "      <td>2.768307e+09</td>\n",
       "      <td>8.388607e+06</td>\n",
       "      <td>1100.000000</td>\n",
       "      <td>75.000000</td>\n",
       "      <td>1.000000</td>\n",
       "      <td>1.000000</td>\n",
       "      <td>1.000000</td>\n",
       "      <td>1.000000</td>\n",
       "      <td>1.000000</td>\n",
       "      <td>1.000000</td>\n",
       "      <td>102.036000</td>\n",
       "      <td>172.633000</td>\n",
       "    </tr>\n",
       "  </tbody>\n",
       "</table>\n",
       "</div>"
      ],
      "text/plain": [
       "                 id         price        sqfeet           beds          baths  \\\n",
       "count  3.849770e+05  3.849770e+05  3.849770e+05  384977.000000  384977.000000   \n",
       "mean   7.040982e+09  8.825722e+03  1.059900e+03       1.905345       1.480718   \n",
       "std    8.800376e+06  4.462200e+06  1.915076e+04       3.494572       0.618061   \n",
       "min    7.003808e+09  0.000000e+00  0.000000e+00       0.000000       0.000000   \n",
       "25%    7.035979e+09  8.050000e+02  7.500000e+02       1.000000       1.000000   \n",
       "50%    7.043320e+09  1.036000e+03  9.490000e+02       2.000000       1.000000   \n",
       "75%    7.048426e+09  1.395000e+03  1.150000e+03       2.000000       2.000000   \n",
       "max    7.051292e+09  2.768307e+09  8.388607e+06    1100.000000      75.000000   \n",
       "\n",
       "        cats_allowed   dogs_allowed  smoking_allowed  wheelchair_access  \\\n",
       "count  384977.000000  384977.000000    384977.000000      384977.000000   \n",
       "mean        0.726890       0.707918         0.731771           0.082111   \n",
       "std         0.445557       0.454721         0.443038           0.274535   \n",
       "min         0.000000       0.000000         0.000000           0.000000   \n",
       "25%         0.000000       0.000000         0.000000           0.000000   \n",
       "50%         1.000000       1.000000         1.000000           0.000000   \n",
       "75%         1.000000       1.000000         1.000000           0.000000   \n",
       "max         1.000000       1.000000         1.000000           1.000000   \n",
       "\n",
       "       electric_vehicle_charge  comes_furnished            lat           long  \n",
       "count            384977.000000    384977.000000  383059.000000  383059.000000  \n",
       "mean                  0.012871         0.048128      37.233487     -92.700631  \n",
       "std                   0.112718         0.214036       5.546171      16.531980  \n",
       "min                   0.000000         0.000000     -43.533300    -163.894000  \n",
       "25%                   0.000000         0.000000      33.454700    -100.775000  \n",
       "50%                   0.000000         0.000000      37.647800     -87.745100  \n",
       "75%                   0.000000         0.000000      41.138300     -81.179600  \n",
       "max                   1.000000         1.000000     102.036000     172.633000  "
      ]
     },
     "execution_count": 5,
     "metadata": {},
     "output_type": "execute_result"
    }
   ],
   "source": [
    "df_full.describe()"
   ]
  },
  {
   "cell_type": "markdown",
   "metadata": {},
   "source": [
    "Which columns will be of interest for our analysis?"
   ]
  },
  {
   "cell_type": "code",
   "execution_count": 6,
   "metadata": {},
   "outputs": [
    {
     "data": {
      "text/plain": [
       "Index(['id', 'url', 'region', 'region_url', 'price', 'type', 'sqfeet', 'beds',\n",
       "       'baths', 'cats_allowed', 'dogs_allowed', 'smoking_allowed',\n",
       "       'wheelchair_access', 'electric_vehicle_charge', 'comes_furnished',\n",
       "       'laundry_options', 'parking_options', 'image_url', 'description', 'lat',\n",
       "       'long', 'state'],\n",
       "      dtype='object')"
      ]
     },
     "execution_count": 6,
     "metadata": {},
     "output_type": "execute_result"
    }
   ],
   "source": [
    "df_full.columns"
   ]
  },
  {
   "cell_type": "code",
   "execution_count": 7,
   "metadata": {},
   "outputs": [
    {
     "data": {
      "text/html": [
       "<div>\n",
       "<style scoped>\n",
       "    .dataframe tbody tr th:only-of-type {\n",
       "        vertical-align: middle;\n",
       "    }\n",
       "\n",
       "    .dataframe tbody tr th {\n",
       "        vertical-align: top;\n",
       "    }\n",
       "\n",
       "    .dataframe thead th {\n",
       "        text-align: right;\n",
       "    }\n",
       "</style>\n",
       "<table border=\"1\" class=\"dataframe\">\n",
       "  <thead>\n",
       "    <tr style=\"text-align: right;\">\n",
       "      <th></th>\n",
       "      <th>region</th>\n",
       "      <th>price</th>\n",
       "      <th>type</th>\n",
       "      <th>sqfeet</th>\n",
       "      <th>beds</th>\n",
       "      <th>baths</th>\n",
       "      <th>cats_allowed</th>\n",
       "      <th>dogs_allowed</th>\n",
       "      <th>smoking_allowed</th>\n",
       "      <th>wheelchair_access</th>\n",
       "      <th>electric_vehicle_charge</th>\n",
       "      <th>comes_furnished</th>\n",
       "      <th>lat</th>\n",
       "      <th>long</th>\n",
       "      <th>state</th>\n",
       "    </tr>\n",
       "  </thead>\n",
       "  <tbody>\n",
       "    <tr>\n",
       "      <th>0</th>\n",
       "      <td>reno / tahoe</td>\n",
       "      <td>1148</td>\n",
       "      <td>apartment</td>\n",
       "      <td>1078</td>\n",
       "      <td>3</td>\n",
       "      <td>2.0</td>\n",
       "      <td>1</td>\n",
       "      <td>1</td>\n",
       "      <td>0</td>\n",
       "      <td>0</td>\n",
       "      <td>0</td>\n",
       "      <td>0</td>\n",
       "      <td>39.5483</td>\n",
       "      <td>-119.796</td>\n",
       "      <td>ca</td>\n",
       "    </tr>\n",
       "    <tr>\n",
       "      <th>1</th>\n",
       "      <td>reno / tahoe</td>\n",
       "      <td>1200</td>\n",
       "      <td>condo</td>\n",
       "      <td>1001</td>\n",
       "      <td>2</td>\n",
       "      <td>2.0</td>\n",
       "      <td>0</td>\n",
       "      <td>0</td>\n",
       "      <td>0</td>\n",
       "      <td>0</td>\n",
       "      <td>0</td>\n",
       "      <td>0</td>\n",
       "      <td>39.5026</td>\n",
       "      <td>-119.789</td>\n",
       "      <td>ca</td>\n",
       "    </tr>\n",
       "    <tr>\n",
       "      <th>2</th>\n",
       "      <td>reno / tahoe</td>\n",
       "      <td>1813</td>\n",
       "      <td>apartment</td>\n",
       "      <td>1683</td>\n",
       "      <td>2</td>\n",
       "      <td>2.0</td>\n",
       "      <td>1</td>\n",
       "      <td>1</td>\n",
       "      <td>1</td>\n",
       "      <td>0</td>\n",
       "      <td>0</td>\n",
       "      <td>0</td>\n",
       "      <td>39.6269</td>\n",
       "      <td>-119.708</td>\n",
       "      <td>ca</td>\n",
       "    </tr>\n",
       "    <tr>\n",
       "      <th>3</th>\n",
       "      <td>reno / tahoe</td>\n",
       "      <td>1095</td>\n",
       "      <td>apartment</td>\n",
       "      <td>708</td>\n",
       "      <td>1</td>\n",
       "      <td>1.0</td>\n",
       "      <td>1</td>\n",
       "      <td>1</td>\n",
       "      <td>1</td>\n",
       "      <td>0</td>\n",
       "      <td>0</td>\n",
       "      <td>0</td>\n",
       "      <td>39.4477</td>\n",
       "      <td>-119.771</td>\n",
       "      <td>ca</td>\n",
       "    </tr>\n",
       "    <tr>\n",
       "      <th>4</th>\n",
       "      <td>reno / tahoe</td>\n",
       "      <td>289</td>\n",
       "      <td>apartment</td>\n",
       "      <td>250</td>\n",
       "      <td>0</td>\n",
       "      <td>1.0</td>\n",
       "      <td>1</td>\n",
       "      <td>1</td>\n",
       "      <td>1</td>\n",
       "      <td>1</td>\n",
       "      <td>0</td>\n",
       "      <td>1</td>\n",
       "      <td>39.5357</td>\n",
       "      <td>-119.805</td>\n",
       "      <td>ca</td>\n",
       "    </tr>\n",
       "  </tbody>\n",
       "</table>\n",
       "</div>"
      ],
      "text/plain": [
       "         region  price       type  sqfeet  beds  baths  cats_allowed  \\\n",
       "0  reno / tahoe   1148  apartment    1078     3    2.0             1   \n",
       "1  reno / tahoe   1200      condo    1001     2    2.0             0   \n",
       "2  reno / tahoe   1813  apartment    1683     2    2.0             1   \n",
       "3  reno / tahoe   1095  apartment     708     1    1.0             1   \n",
       "4  reno / tahoe    289  apartment     250     0    1.0             1   \n",
       "\n",
       "   dogs_allowed  smoking_allowed  wheelchair_access  electric_vehicle_charge  \\\n",
       "0             1                0                  0                        0   \n",
       "1             0                0                  0                        0   \n",
       "2             1                1                  0                        0   \n",
       "3             1                1                  0                        0   \n",
       "4             1                1                  1                        0   \n",
       "\n",
       "   comes_furnished      lat     long state  \n",
       "0                0  39.5483 -119.796    ca  \n",
       "1                0  39.5026 -119.789    ca  \n",
       "2                0  39.6269 -119.708    ca  \n",
       "3                0  39.4477 -119.771    ca  \n",
       "4                1  39.5357 -119.805    ca  "
      ]
     },
     "execution_count": 7,
     "metadata": {},
     "output_type": "execute_result"
    }
   ],
   "source": [
    "vars_of_interest = ['region', 'price', 'type', 'sqfeet', 'beds', 'baths', 'cats_allowed', 'dogs_allowed', 'smoking_allowed',\n",
    "                    'wheelchair_access', 'electric_vehicle_charge', 'comes_furnished', 'lat', 'long', 'state']\n",
    "\n",
    "df_trimmed = df_full.filter(vars_of_interest)\n",
    "\n",
    "df_trimmed.head()"
   ]
  },
  {
   "cell_type": "markdown",
   "metadata": {},
   "source": [
    "Now that we have trimmed the data, let's export it to a new CSV file."
   ]
  },
  {
   "cell_type": "code",
   "execution_count": 8,
   "metadata": {},
   "outputs": [],
   "source": [
    "# Write trimmed DF to new CSV file\n",
    "\n",
    "df_trimmed.to_csv('data\\housing_trimmed.csv')"
   ]
  },
  {
   "cell_type": "code",
   "execution_count": 9,
   "metadata": {},
   "outputs": [
    {
     "name": "stdout",
     "output_type": "stream",
     "text": [
      " Volume in drive C is Acer\n",
      " Volume Serial Number is E4EC-476E\n",
      "\n",
      " Directory of c:\\Users\\Marshall\\Documents\\projects\\usa-housing-data-analysis\\data\n",
      "\n",
      "02/18/2022  02:52 PM    <DIR>          .\n",
      "02/18/2022  02:52 PM    <DIR>          ..\n",
      "02/14/2022  10:47 AM       558,438,401 housing.csv\n",
      "02/21/2022  05:40 AM        26,509,577 housing_cleaned.csv\n",
      "02/21/2022  05:41 AM        29,488,791 housing_trimmed.csv\n",
      "               3 File(s)    614,436,769 bytes\n",
      "               2 Dir(s)  346,472,460,288 bytes free\n"
     ]
    }
   ],
   "source": [
    "# Show contents of data directory to ensure CSV file was created\n",
    "\n",
    "!dir \"data/\""
   ]
  },
  {
   "cell_type": "markdown",
   "metadata": {},
   "source": [
    "Let's explore this data to see if there are any outliers. To do this, we will first visualize the data with some histograms."
   ]
  },
  {
   "cell_type": "code",
   "execution_count": 10,
   "metadata": {},
   "outputs": [],
   "source": [
    "# sns.histplot(df_trimmed, x=\"price\")"
   ]
  },
  {
   "cell_type": "code",
   "execution_count": 11,
   "metadata": {},
   "outputs": [],
   "source": [
    "# sns.histplot(df_trimmed.price)"
   ]
  },
  {
   "cell_type": "markdown",
   "metadata": {},
   "source": [
    "Both of the above cells took longer than 30 minutes and needed to be interrupted. Let's try some box plots instead."
   ]
  },
  {
   "cell_type": "code",
   "execution_count": 12,
   "metadata": {},
   "outputs": [
    {
     "data": {
      "text/plain": [
       "<AxesSubplot:ylabel='price'>"
      ]
     },
     "execution_count": 12,
     "metadata": {},
     "output_type": "execute_result"
    },
    {
     "data": {
      "image/png": "[encoded data removed]",
      "text/plain": [
       "<Figure size 432x288 with 1 Axes>"
      ]
     },
     "metadata": {
      "needs_background": "light"
     },
     "output_type": "display_data"
    }
   ],
   "source": [
    "sns.boxplot(y=df_trimmed['price'])"
   ]
  },
  {
   "cell_type": "markdown",
   "metadata": {},
   "source": [
    "It looks like we have an extreme outlier in the price column of our DF. Let's remove outliers from the DF, then try to make the box plots afterwards.\n",
    "\n",
    "(As an aside, seaborn boxplots determine outliers as being data points outside of 1.5 IQRs of the lower and upper quartile, so we will find the interquartile range and then remove any data points outside 1.5 times said interquartile range.)"
   ]
  },
  {
   "cell_type": "code",
   "execution_count": 13,
   "metadata": {},
   "outputs": [
    {
     "data": {
      "text/plain": [
       "(384977, 15)"
      ]
     },
     "execution_count": 13,
     "metadata": {},
     "output_type": "execute_result"
    }
   ],
   "source": [
    "# Check shape of df_trimmed so we can see the # of rows before we remove outliers\n",
    "\n",
    "df_trimmed.shape"
   ]
  },
  {
   "cell_type": "code",
   "execution_count": 14,
   "metadata": {},
   "outputs": [
    {
     "data": {
      "text/plain": [
       "590.0"
      ]
     },
     "execution_count": 14,
     "metadata": {},
     "output_type": "execute_result"
    }
   ],
   "source": [
    "# Use numpy to find the interquartile range of the price column\n",
    "\n",
    "price_q3 = np.quantile(df_trimmed['price'], 0.75)\n",
    "price_q1 = np.quantile(df_trimmed['price'], 0.25)\n",
    "price_iqr = price_q3 - price_q1\n",
    "\n",
    "price_iqr"
   ]
  },
  {
   "cell_type": "code",
   "execution_count": 15,
   "metadata": {},
   "outputs": [],
   "source": [
    "# Create a list of values in df_trimmed.price that fall within our desired range\n",
    "\n",
    "price_lower_range = price_q1 - (1.5*price_iqr)\n",
    "price_upper_range = price_q3 + (1.5*price_iqr)\n",
    "\n",
    "list_no_outliers = [x for x in df_trimmed['price'] if (\n",
    "    (x > price_lower_range) & (x < price_upper_range))]"
   ]
  },
  {
   "cell_type": "code",
   "execution_count": 16,
   "metadata": {},
   "outputs": [
    {
     "data": {
      "text/plain": [
       "pandas.core.series.Series"
      ]
     },
     "execution_count": 16,
     "metadata": {},
     "output_type": "execute_result"
    }
   ],
   "source": [
    "# Convert list_no_outliers to a series\n",
    "\n",
    "price_no_outliers = pd.Series(list_no_outliers)\n",
    "\n",
    "type(price_no_outliers)"
   ]
  },
  {
   "cell_type": "code",
   "execution_count": 17,
   "metadata": {},
   "outputs": [
    {
     "data": {
      "text/plain": [
       "count    366146.000000\n",
       "mean       1088.321588\n",
       "std         400.013347\n",
       "min           0.000000\n",
       "25%         800.000000\n",
       "50%        1009.000000\n",
       "75%        1330.000000\n",
       "max        2279.000000\n",
       "dtype: float64"
      ]
     },
     "execution_count": 17,
     "metadata": {},
     "output_type": "execute_result"
    }
   ],
   "source": [
    "price_no_outliers.describe()"
   ]
  },
  {
   "cell_type": "code",
   "execution_count": 18,
   "metadata": {},
   "outputs": [
    {
     "data": {
      "text/plain": [
       "<AxesSubplot:>"
      ]
     },
     "execution_count": 18,
     "metadata": {},
     "output_type": "execute_result"
    },
    {
     "data": {
      "image/png": "[encoded data removed]",
      "text/plain": [
       "<Figure size 432x288 with 1 Axes>"
      ]
     },
     "metadata": {
      "needs_background": "light"
     },
     "output_type": "display_data"
    }
   ],
   "source": [
    "# Use seaborn to create a boxplot of price_no_outliers\n",
    "\n",
    "sns.boxplot(y = price_no_outliers)"
   ]
  },
  {
   "cell_type": "code",
   "execution_count": 19,
   "metadata": {},
   "outputs": [
    {
     "data": {
      "text/plain": [
       "(366146,)"
      ]
     },
     "execution_count": 19,
     "metadata": {},
     "output_type": "execute_result"
    }
   ],
   "source": [
    "# Find amount of rows in price_no_outliers (we want a new df with this many rows)\n",
    "\n",
    "price_no_outliers.shape"
   ]
  },
  {
   "cell_type": "code",
   "execution_count": 20,
   "metadata": {},
   "outputs": [
    {
     "data": {
      "text/plain": [
       "(366146, 15)"
      ]
     },
     "execution_count": 20,
     "metadata": {},
     "output_type": "execute_result"
    }
   ],
   "source": [
    "# Create a mask to filter out outliers, then check shape of new df to ensure it matches amount from above cell\n",
    "\n",
    "price_outlier_mask = (df_trimmed.price > price_lower_range) & (df_trimmed.price < price_upper_range)\n",
    "\n",
    "df_no_outliers = df_trimmed[price_outlier_mask]\n",
    "\n",
    "df_no_outliers.shape"
   ]
  },
  {
   "cell_type": "code",
   "execution_count": 21,
   "metadata": {},
   "outputs": [
    {
     "data": {
      "text/plain": [
       "<AxesSubplot:xlabel='price', ylabel='Count'>"
      ]
     },
     "execution_count": 21,
     "metadata": {},
     "output_type": "execute_result"
    },
    {
     "data": {
      "image/png": "[encoded data removed]",
      "text/plain": [
       "<Figure size 432x288 with 1 Axes>"
      ]
     },
     "metadata": {
      "needs_background": "light"
     },
     "output_type": "display_data"
    }
   ],
   "source": [
    "# Use seaborn to create a histogram of the price column\n",
    "\n",
    "sns.histplot(df_no_outliers.price, binwidth=50)"
   ]
  },
  {
   "cell_type": "markdown",
   "metadata": {},
   "source": [
    "Let's look at some of the other columns to see if they have any outliers as well."
   ]
  },
  {
   "cell_type": "code",
   "execution_count": 22,
   "metadata": {},
   "outputs": [
    {
     "data": {
      "text/html": [
       "<div>\n",
       "<style scoped>\n",
       "    .dataframe tbody tr th:only-of-type {\n",
       "        vertical-align: middle;\n",
       "    }\n",
       "\n",
       "    .dataframe tbody tr th {\n",
       "        vertical-align: top;\n",
       "    }\n",
       "\n",
       "    .dataframe thead th {\n",
       "        text-align: right;\n",
       "    }\n",
       "</style>\n",
       "<table border=\"1\" class=\"dataframe\">\n",
       "  <thead>\n",
       "    <tr style=\"text-align: right;\">\n",
       "      <th></th>\n",
       "      <th>price</th>\n",
       "      <th>sqfeet</th>\n",
       "      <th>beds</th>\n",
       "      <th>baths</th>\n",
       "      <th>cats_allowed</th>\n",
       "      <th>dogs_allowed</th>\n",
       "      <th>smoking_allowed</th>\n",
       "      <th>wheelchair_access</th>\n",
       "      <th>electric_vehicle_charge</th>\n",
       "      <th>comes_furnished</th>\n",
       "      <th>lat</th>\n",
       "      <th>long</th>\n",
       "    </tr>\n",
       "  </thead>\n",
       "  <tbody>\n",
       "    <tr>\n",
       "      <th>count</th>\n",
       "      <td>366146.000000</td>\n",
       "      <td>3.661460e+05</td>\n",
       "      <td>366146.00000</td>\n",
       "      <td>366146.000000</td>\n",
       "      <td>366146.000000</td>\n",
       "      <td>366146.000000</td>\n",
       "      <td>366146.000000</td>\n",
       "      <td>366146.000000</td>\n",
       "      <td>366146.000000</td>\n",
       "      <td>366146.000000</td>\n",
       "      <td>364358.000000</td>\n",
       "      <td>364358.000000</td>\n",
       "    </tr>\n",
       "    <tr>\n",
       "      <th>mean</th>\n",
       "      <td>1088.321588</td>\n",
       "      <td>1.032821e+03</td>\n",
       "      <td>1.87307</td>\n",
       "      <td>1.456618</td>\n",
       "      <td>0.731755</td>\n",
       "      <td>0.711918</td>\n",
       "      <td>0.741650</td>\n",
       "      <td>0.077939</td>\n",
       "      <td>0.010089</td>\n",
       "      <td>0.044723</td>\n",
       "      <td>37.256095</td>\n",
       "      <td>-92.185788</td>\n",
       "    </tr>\n",
       "    <tr>\n",
       "      <th>std</th>\n",
       "      <td>400.013347</td>\n",
       "      <td>1.942050e+04</td>\n",
       "      <td>2.48601</td>\n",
       "      <td>0.576278</td>\n",
       "      <td>0.443047</td>\n",
       "      <td>0.452870</td>\n",
       "      <td>0.437728</td>\n",
       "      <td>0.268076</td>\n",
       "      <td>0.099936</td>\n",
       "      <td>0.206694</td>\n",
       "      <td>5.535107</td>\n",
       "      <td>15.984414</td>\n",
       "    </tr>\n",
       "    <tr>\n",
       "      <th>min</th>\n",
       "      <td>0.000000</td>\n",
       "      <td>0.000000e+00</td>\n",
       "      <td>0.00000</td>\n",
       "      <td>0.000000</td>\n",
       "      <td>0.000000</td>\n",
       "      <td>0.000000</td>\n",
       "      <td>0.000000</td>\n",
       "      <td>0.000000</td>\n",
       "      <td>0.000000</td>\n",
       "      <td>0.000000</td>\n",
       "      <td>-40.266600</td>\n",
       "      <td>-163.894000</td>\n",
       "    </tr>\n",
       "    <tr>\n",
       "      <th>25%</th>\n",
       "      <td>800.000000</td>\n",
       "      <td>7.500000e+02</td>\n",
       "      <td>1.00000</td>\n",
       "      <td>1.000000</td>\n",
       "      <td>0.000000</td>\n",
       "      <td>0.000000</td>\n",
       "      <td>0.000000</td>\n",
       "      <td>0.000000</td>\n",
       "      <td>0.000000</td>\n",
       "      <td>0.000000</td>\n",
       "      <td>33.422600</td>\n",
       "      <td>-98.168375</td>\n",
       "    </tr>\n",
       "    <tr>\n",
       "      <th>50%</th>\n",
       "      <td>1009.000000</td>\n",
       "      <td>9.330000e+02</td>\n",
       "      <td>2.00000</td>\n",
       "      <td>1.000000</td>\n",
       "      <td>1.000000</td>\n",
       "      <td>1.000000</td>\n",
       "      <td>1.000000</td>\n",
       "      <td>0.000000</td>\n",
       "      <td>0.000000</td>\n",
       "      <td>0.000000</td>\n",
       "      <td>37.662650</td>\n",
       "      <td>-87.521500</td>\n",
       "    </tr>\n",
       "    <tr>\n",
       "      <th>75%</th>\n",
       "      <td>1330.000000</td>\n",
       "      <td>1.125000e+03</td>\n",
       "      <td>2.00000</td>\n",
       "      <td>2.000000</td>\n",
       "      <td>1.000000</td>\n",
       "      <td>1.000000</td>\n",
       "      <td>1.000000</td>\n",
       "      <td>0.000000</td>\n",
       "      <td>0.000000</td>\n",
       "      <td>0.000000</td>\n",
       "      <td>41.196300</td>\n",
       "      <td>-81.235900</td>\n",
       "    </tr>\n",
       "    <tr>\n",
       "      <th>max</th>\n",
       "      <td>2279.000000</td>\n",
       "      <td>8.388607e+06</td>\n",
       "      <td>1000.00000</td>\n",
       "      <td>35.000000</td>\n",
       "      <td>1.000000</td>\n",
       "      <td>1.000000</td>\n",
       "      <td>1.000000</td>\n",
       "      <td>1.000000</td>\n",
       "      <td>1.000000</td>\n",
       "      <td>1.000000</td>\n",
       "      <td>102.036000</td>\n",
       "      <td>94.156100</td>\n",
       "    </tr>\n",
       "  </tbody>\n",
       "</table>\n",
       "</div>"
      ],
      "text/plain": [
       "               price        sqfeet          beds          baths  \\\n",
       "count  366146.000000  3.661460e+05  366146.00000  366146.000000   \n",
       "mean     1088.321588  1.032821e+03       1.87307       1.456618   \n",
       "std       400.013347  1.942050e+04       2.48601       0.576278   \n",
       "min         0.000000  0.000000e+00       0.00000       0.000000   \n",
       "25%       800.000000  7.500000e+02       1.00000       1.000000   \n",
       "50%      1009.000000  9.330000e+02       2.00000       1.000000   \n",
       "75%      1330.000000  1.125000e+03       2.00000       2.000000   \n",
       "max      2279.000000  8.388607e+06    1000.00000      35.000000   \n",
       "\n",
       "        cats_allowed   dogs_allowed  smoking_allowed  wheelchair_access  \\\n",
       "count  366146.000000  366146.000000    366146.000000      366146.000000   \n",
       "mean        0.731755       0.711918         0.741650           0.077939   \n",
       "std         0.443047       0.452870         0.437728           0.268076   \n",
       "min         0.000000       0.000000         0.000000           0.000000   \n",
       "25%         0.000000       0.000000         0.000000           0.000000   \n",
       "50%         1.000000       1.000000         1.000000           0.000000   \n",
       "75%         1.000000       1.000000         1.000000           0.000000   \n",
       "max         1.000000       1.000000         1.000000           1.000000   \n",
       "\n",
       "       electric_vehicle_charge  comes_furnished            lat           long  \n",
       "count            366146.000000    366146.000000  364358.000000  364358.000000  \n",
       "mean                  0.010089         0.044723      37.256095     -92.185788  \n",
       "std                   0.099936         0.206694       5.535107      15.984414  \n",
       "min                   0.000000         0.000000     -40.266600    -163.894000  \n",
       "25%                   0.000000         0.000000      33.422600     -98.168375  \n",
       "50%                   0.000000         0.000000      37.662650     -87.521500  \n",
       "75%                   0.000000         0.000000      41.196300     -81.235900  \n",
       "max                   1.000000         1.000000     102.036000      94.156100  "
      ]
     },
     "execution_count": 22,
     "metadata": {},
     "output_type": "execute_result"
    }
   ],
   "source": [
    "df_no_outliers.describe()"
   ]
  },
  {
   "cell_type": "markdown",
   "metadata": {},
   "source": [
    "It looks like the sqfeet column has some outliers. Let's check this out visually with a boxplot."
   ]
  },
  {
   "cell_type": "code",
   "execution_count": 23,
   "metadata": {},
   "outputs": [
    {
     "data": {
      "text/plain": [
       "<AxesSubplot:ylabel='sqfeet'>"
      ]
     },
     "execution_count": 23,
     "metadata": {},
     "output_type": "execute_result"
    },
    {
     "data": {
      "image/png": "[encoded data removed]",
      "text/plain": [
       "<Figure size 432x288 with 1 Axes>"
      ]
     },
     "metadata": {
      "needs_background": "light"
     },
     "output_type": "display_data"
    }
   ],
   "source": [
    "# Use seaborn to create a boxplot of the sqfeet column\n",
    "\n",
    "sns.boxplot(y=df_no_outliers.sqfeet)"
   ]
  },
  {
   "cell_type": "markdown",
   "metadata": {},
   "source": [
    "Those data points at the top are likely errors, similar to the price column. Let's remove them the same way."
   ]
  },
  {
   "cell_type": "code",
   "execution_count": 24,
   "metadata": {},
   "outputs": [
    {
     "data": {
      "text/plain": [
       "375.0"
      ]
     },
     "execution_count": 24,
     "metadata": {},
     "output_type": "execute_result"
    }
   ],
   "source": [
    "# Use numpy to find the interquartile range of the sqfeet column\n",
    "\n",
    "sqfeet_q3 = np.quantile(df_no_outliers['sqfeet'], 0.75)\n",
    "sqfeet_q1 = np.quantile(df_no_outliers['sqfeet'], 0.25)\n",
    "sqfeet_iqr = sqfeet_q3 - sqfeet_q1\n",
    "\n",
    "sqfeet_iqr"
   ]
  },
  {
   "cell_type": "code",
   "execution_count": 25,
   "metadata": {},
   "outputs": [
    {
     "name": "stdout",
     "output_type": "stream",
     "text": [
      "187.5 1687.5\n"
     ]
    }
   ],
   "source": [
    "# Determine the upper and lower ranges of sqfeet column\n",
    "\n",
    "sqfeet_lower_range = sqfeet_q1 - (1.5 * sqfeet_iqr)\n",
    "sqfeet_upper_range = sqfeet_q3 + (1.5 * sqfeet_iqr)\n",
    "\n",
    "print(sqfeet_lower_range, sqfeet_upper_range)"
   ]
  },
  {
   "cell_type": "code",
   "execution_count": 26,
   "metadata": {},
   "outputs": [
    {
     "data": {
      "text/plain": [
       "(366146, 15)"
      ]
     },
     "execution_count": 26,
     "metadata": {},
     "output_type": "execute_result"
    }
   ],
   "source": [
    "# Check the shape of the DF before altering\n",
    "\n",
    "df_no_outliers.shape"
   ]
  },
  {
   "cell_type": "code",
   "execution_count": 27,
   "metadata": {},
   "outputs": [
    {
     "data": {
      "text/plain": [
       "(351700, 15)"
      ]
     },
     "execution_count": 27,
     "metadata": {},
     "output_type": "execute_result"
    }
   ],
   "source": [
    "# Use another mask to get rid of outlier, then check shape of DF to ensure outliers were removed\n",
    "\n",
    "sqfeet_outlier_mask = (df_no_outliers.sqfeet > sqfeet_lower_range) & (df_no_outliers.sqfeet < sqfeet_upper_range)\n",
    "\n",
    "df_no_outliers = df_no_outliers[sqfeet_outlier_mask]\n",
    "\n",
    "df_no_outliers.shape"
   ]
  },
  {
   "cell_type": "markdown",
   "metadata": {},
   "source": [
    "Now that the outliers have been removed from the sqfeet column, let's look at the resulting boxplot."
   ]
  },
  {
   "cell_type": "code",
   "execution_count": 28,
   "metadata": {},
   "outputs": [
    {
     "data": {
      "text/plain": [
       "<AxesSubplot:ylabel='sqfeet'>"
      ]
     },
     "execution_count": 28,
     "metadata": {},
     "output_type": "execute_result"
    },
    {
     "data": {
      "image/png": "[encoded data removed]",
      "text/plain": [
       "<Figure size 432x288 with 1 Axes>"
      ]
     },
     "metadata": {
      "needs_background": "light"
     },
     "output_type": "display_data"
    }
   ],
   "source": [
    "# Use seaborn to create a boxplot of sqfeet column after removing outliers\n",
    "\n",
    "sns.boxplot(y=df_no_outliers.sqfeet)"
   ]
  },
  {
   "cell_type": "markdown",
   "metadata": {},
   "source": [
    "That looks much better. Now let's see the histogram for sqfeet."
   ]
  },
  {
   "cell_type": "code",
   "execution_count": 29,
   "metadata": {},
   "outputs": [
    {
     "data": {
      "text/plain": [
       "<AxesSubplot:xlabel='sqfeet', ylabel='Count'>"
      ]
     },
     "execution_count": 29,
     "metadata": {},
     "output_type": "execute_result"
    },
    {
     "data": {
      "image/png": "[encoded data removed]",
      "text/plain": [
       "<Figure size 432x288 with 1 Axes>"
      ]
     },
     "metadata": {
      "needs_background": "light"
     },
     "output_type": "display_data"
    }
   ],
   "source": [
    "# Use seaborn to create a histogram of sqfeet column after removing outliers\n",
    "\n",
    "sns.histplot(df_no_outliers.sqfeet, binwidth=50)"
   ]
  },
  {
   "cell_type": "markdown",
   "metadata": {},
   "source": [
    "Let's look for any more outliers in the dataset."
   ]
  },
  {
   "cell_type": "code",
   "execution_count": 30,
   "metadata": {},
   "outputs": [
    {
     "data": {
      "text/html": [
       "<div>\n",
       "<style scoped>\n",
       "    .dataframe tbody tr th:only-of-type {\n",
       "        vertical-align: middle;\n",
       "    }\n",
       "\n",
       "    .dataframe tbody tr th {\n",
       "        vertical-align: top;\n",
       "    }\n",
       "\n",
       "    .dataframe thead th {\n",
       "        text-align: right;\n",
       "    }\n",
       "</style>\n",
       "<table border=\"1\" class=\"dataframe\">\n",
       "  <thead>\n",
       "    <tr style=\"text-align: right;\">\n",
       "      <th></th>\n",
       "      <th>price</th>\n",
       "      <th>sqfeet</th>\n",
       "      <th>beds</th>\n",
       "      <th>baths</th>\n",
       "      <th>cats_allowed</th>\n",
       "      <th>dogs_allowed</th>\n",
       "      <th>smoking_allowed</th>\n",
       "      <th>wheelchair_access</th>\n",
       "      <th>electric_vehicle_charge</th>\n",
       "      <th>comes_furnished</th>\n",
       "      <th>lat</th>\n",
       "      <th>long</th>\n",
       "    </tr>\n",
       "  </thead>\n",
       "  <tbody>\n",
       "    <tr>\n",
       "      <th>count</th>\n",
       "      <td>351700.000000</td>\n",
       "      <td>351700.000000</td>\n",
       "      <td>351700.000000</td>\n",
       "      <td>351700.000000</td>\n",
       "      <td>351700.000000</td>\n",
       "      <td>351700.000000</td>\n",
       "      <td>351700.000000</td>\n",
       "      <td>351700.000000</td>\n",
       "      <td>351700.000000</td>\n",
       "      <td>351700.000000</td>\n",
       "      <td>350169.000000</td>\n",
       "      <td>350169.000000</td>\n",
       "    </tr>\n",
       "    <tr>\n",
       "      <th>mean</th>\n",
       "      <td>1078.627990</td>\n",
       "      <td>932.386181</td>\n",
       "      <td>1.811857</td>\n",
       "      <td>1.427306</td>\n",
       "      <td>0.739286</td>\n",
       "      <td>0.717498</td>\n",
       "      <td>0.745775</td>\n",
       "      <td>0.078368</td>\n",
       "      <td>0.009855</td>\n",
       "      <td>0.042403</td>\n",
       "      <td>37.216569</td>\n",
       "      <td>-92.192929</td>\n",
       "    </tr>\n",
       "    <tr>\n",
       "      <th>std</th>\n",
       "      <td>391.311601</td>\n",
       "      <td>264.418784</td>\n",
       "      <td>1.864169</td>\n",
       "      <td>0.544647</td>\n",
       "      <td>0.439025</td>\n",
       "      <td>0.450217</td>\n",
       "      <td>0.435425</td>\n",
       "      <td>0.268750</td>\n",
       "      <td>0.098782</td>\n",
       "      <td>0.201506</td>\n",
       "      <td>5.519167</td>\n",
       "      <td>15.994233</td>\n",
       "    </tr>\n",
       "    <tr>\n",
       "      <th>min</th>\n",
       "      <td>0.000000</td>\n",
       "      <td>188.000000</td>\n",
       "      <td>0.000000</td>\n",
       "      <td>0.000000</td>\n",
       "      <td>0.000000</td>\n",
       "      <td>0.000000</td>\n",
       "      <td>0.000000</td>\n",
       "      <td>0.000000</td>\n",
       "      <td>0.000000</td>\n",
       "      <td>0.000000</td>\n",
       "      <td>-40.266600</td>\n",
       "      <td>-163.894000</td>\n",
       "    </tr>\n",
       "    <tr>\n",
       "      <th>25%</th>\n",
       "      <td>799.000000</td>\n",
       "      <td>742.000000</td>\n",
       "      <td>1.000000</td>\n",
       "      <td>1.000000</td>\n",
       "      <td>0.000000</td>\n",
       "      <td>0.000000</td>\n",
       "      <td>0.000000</td>\n",
       "      <td>0.000000</td>\n",
       "      <td>0.000000</td>\n",
       "      <td>0.000000</td>\n",
       "      <td>33.395200</td>\n",
       "      <td>-98.193900</td>\n",
       "    </tr>\n",
       "    <tr>\n",
       "      <th>50%</th>\n",
       "      <td>1000.000000</td>\n",
       "      <td>920.000000</td>\n",
       "      <td>2.000000</td>\n",
       "      <td>1.000000</td>\n",
       "      <td>1.000000</td>\n",
       "      <td>1.000000</td>\n",
       "      <td>1.000000</td>\n",
       "      <td>0.000000</td>\n",
       "      <td>0.000000</td>\n",
       "      <td>0.000000</td>\n",
       "      <td>37.548400</td>\n",
       "      <td>-87.521400</td>\n",
       "    </tr>\n",
       "    <tr>\n",
       "      <th>75%</th>\n",
       "      <td>1311.000000</td>\n",
       "      <td>1100.000000</td>\n",
       "      <td>2.000000</td>\n",
       "      <td>2.000000</td>\n",
       "      <td>1.000000</td>\n",
       "      <td>1.000000</td>\n",
       "      <td>1.000000</td>\n",
       "      <td>0.000000</td>\n",
       "      <td>0.000000</td>\n",
       "      <td>0.000000</td>\n",
       "      <td>41.141000</td>\n",
       "      <td>-81.252000</td>\n",
       "    </tr>\n",
       "    <tr>\n",
       "      <th>max</th>\n",
       "      <td>2279.000000</td>\n",
       "      <td>1687.000000</td>\n",
       "      <td>1000.000000</td>\n",
       "      <td>25.000000</td>\n",
       "      <td>1.000000</td>\n",
       "      <td>1.000000</td>\n",
       "      <td>1.000000</td>\n",
       "      <td>1.000000</td>\n",
       "      <td>1.000000</td>\n",
       "      <td>1.000000</td>\n",
       "      <td>102.036000</td>\n",
       "      <td>94.156100</td>\n",
       "    </tr>\n",
       "  </tbody>\n",
       "</table>\n",
       "</div>"
      ],
      "text/plain": [
       "               price         sqfeet           beds          baths  \\\n",
       "count  351700.000000  351700.000000  351700.000000  351700.000000   \n",
       "mean     1078.627990     932.386181       1.811857       1.427306   \n",
       "std       391.311601     264.418784       1.864169       0.544647   \n",
       "min         0.000000     188.000000       0.000000       0.000000   \n",
       "25%       799.000000     742.000000       1.000000       1.000000   \n",
       "50%      1000.000000     920.000000       2.000000       1.000000   \n",
       "75%      1311.000000    1100.000000       2.000000       2.000000   \n",
       "max      2279.000000    1687.000000    1000.000000      25.000000   \n",
       "\n",
       "        cats_allowed   dogs_allowed  smoking_allowed  wheelchair_access  \\\n",
       "count  351700.000000  351700.000000    351700.000000      351700.000000   \n",
       "mean        0.739286       0.717498         0.745775           0.078368   \n",
       "std         0.439025       0.450217         0.435425           0.268750   \n",
       "min         0.000000       0.000000         0.000000           0.000000   \n",
       "25%         0.000000       0.000000         0.000000           0.000000   \n",
       "50%         1.000000       1.000000         1.000000           0.000000   \n",
       "75%         1.000000       1.000000         1.000000           0.000000   \n",
       "max         1.000000       1.000000         1.000000           1.000000   \n",
       "\n",
       "       electric_vehicle_charge  comes_furnished            lat           long  \n",
       "count            351700.000000    351700.000000  350169.000000  350169.000000  \n",
       "mean                  0.009855         0.042403      37.216569     -92.192929  \n",
       "std                   0.098782         0.201506       5.519167      15.994233  \n",
       "min                   0.000000         0.000000     -40.266600    -163.894000  \n",
       "25%                   0.000000         0.000000      33.395200     -98.193900  \n",
       "50%                   0.000000         0.000000      37.548400     -87.521400  \n",
       "75%                   0.000000         0.000000      41.141000     -81.252000  \n",
       "max                   1.000000         1.000000     102.036000      94.156100  "
      ]
     },
     "execution_count": 30,
     "metadata": {},
     "output_type": "execute_result"
    }
   ],
   "source": [
    "df_no_outliers.describe()"
   ]
  },
  {
   "cell_type": "markdown",
   "metadata": {},
   "source": [
    "It looks as though the beds and baths columns both have outliers too. I highly doubt there are any homes in this dataset with 1000 bedrooms or 25 bathrooms! Let's check this out with some more charts."
   ]
  },
  {
   "cell_type": "code",
   "execution_count": 31,
   "metadata": {},
   "outputs": [
    {
     "data": {
      "text/plain": [
       "<AxesSubplot:ylabel='beds'>"
      ]
     },
     "execution_count": 31,
     "metadata": {},
     "output_type": "execute_result"
    },
    {
     "data": {
      "image/png": "[encoded data removed]",
      "text/plain": [
       "<Figure size 432x288 with 1 Axes>"
      ]
     },
     "metadata": {
      "needs_background": "light"
     },
     "output_type": "display_data"
    }
   ],
   "source": [
    "# Use seaborn to create a boxplot of the beds column\n",
    "\n",
    "sns.boxplot(y=df_no_outliers.beds)"
   ]
  },
  {
   "cell_type": "code",
   "execution_count": 32,
   "metadata": {},
   "outputs": [
    {
     "data": {
      "text/plain": [
       "<AxesSubplot:ylabel='baths'>"
      ]
     },
     "execution_count": 32,
     "metadata": {},
     "output_type": "execute_result"
    },
    {
     "data": {
      "image/png": "[encoded data removed]",
      "text/plain": [
       "<Figure size 432x288 with 1 Axes>"
      ]
     },
     "metadata": {
      "needs_background": "light"
     },
     "output_type": "display_data"
    }
   ],
   "source": [
    "# Use seaborn to create a boxplot of the baths column\n",
    "\n",
    "sns.boxplot(y=df_no_outliers.baths)"
   ]
  },
  {
   "cell_type": "markdown",
   "metadata": {},
   "source": [
    "Let's use more masking to remove the outliers from both the beds and baths columns."
   ]
  },
  {
   "cell_type": "code",
   "execution_count": 33,
   "metadata": {},
   "outputs": [
    {
     "data": {
      "text/plain": [
       "1.0"
      ]
     },
     "execution_count": 33,
     "metadata": {},
     "output_type": "execute_result"
    }
   ],
   "source": [
    "# Use numpy to find the interquartile range of the beds column\n",
    "\n",
    "beds_q3 = np.quantile(df_no_outliers['beds'], 0.75)\n",
    "beds_q1 = np.quantile(df_no_outliers['beds'], 0.25)\n",
    "beds_iqr = beds_q3 - beds_q1\n",
    "\n",
    "beds_iqr"
   ]
  },
  {
   "cell_type": "code",
   "execution_count": 34,
   "metadata": {},
   "outputs": [
    {
     "name": "stdout",
     "output_type": "stream",
     "text": [
      "-0.5 3.5\n"
     ]
    }
   ],
   "source": [
    "# Determine the upper and lower ranges of beds column\n",
    "\n",
    "beds_lower_range = beds_q1 - (1.5 * beds_iqr)\n",
    "beds_upper_range = beds_q3 + (1.5 * beds_iqr)\n",
    "\n",
    "print(beds_lower_range, beds_upper_range)"
   ]
  },
  {
   "cell_type": "markdown",
   "metadata": {},
   "source": [
    "We can up with a negative number for the lower range, but since a house cannot have negative bedrooms and the min for beds is 0, this should not cause any problems."
   ]
  },
  {
   "cell_type": "code",
   "execution_count": 35,
   "metadata": {},
   "outputs": [
    {
     "data": {
      "text/plain": [
       "(351700, 15)"
      ]
     },
     "execution_count": 35,
     "metadata": {},
     "output_type": "execute_result"
    }
   ],
   "source": [
    "# Check shape of DF before removing outliers\n",
    "\n",
    "df_no_outliers.shape"
   ]
  },
  {
   "cell_type": "code",
   "execution_count": 36,
   "metadata": {},
   "outputs": [
    {
     "data": {
      "text/plain": [
       "(345745, 15)"
      ]
     },
     "execution_count": 36,
     "metadata": {},
     "output_type": "execute_result"
    }
   ],
   "source": [
    "# Remove outliers with mask then check shape of DF to ensure we have fewer rows\n",
    "\n",
    "beds_outlier_mask = (df_no_outliers.beds > beds_lower_range) & (df_no_outliers.beds < beds_upper_range)\n",
    "\n",
    "df_no_outliers = df_no_outliers[beds_outlier_mask]\n",
    "\n",
    "df_no_outliers.shape"
   ]
  },
  {
   "cell_type": "code",
   "execution_count": 37,
   "metadata": {},
   "outputs": [
    {
     "data": {
      "text/plain": [
       "1.0"
      ]
     },
     "execution_count": 37,
     "metadata": {},
     "output_type": "execute_result"
    }
   ],
   "source": [
    "# Use numpy to find the interquartile range of the baths column\n",
    "\n",
    "baths_q3 = np.quantile(df_no_outliers['baths'], 0.75)\n",
    "baths_q1 = np.quantile(df_no_outliers['baths'], 0.25)\n",
    "baths_iqr = beds_q3 - beds_q1\n",
    "\n",
    "baths_iqr"
   ]
  },
  {
   "cell_type": "code",
   "execution_count": 38,
   "metadata": {},
   "outputs": [
    {
     "name": "stdout",
     "output_type": "stream",
     "text": [
      "-0.5 3.5\n"
     ]
    }
   ],
   "source": [
    "# Determine upper and lower ranges of baths column\n",
    "\n",
    "baths_lower_range = baths_q1 - (1.5 * baths_iqr)\n",
    "baths_upper_range = baths_q3 + (1.5 * baths_iqr)\n",
    "\n",
    "print(baths_lower_range, baths_upper_range)"
   ]
  },
  {
   "cell_type": "markdown",
   "metadata": {},
   "source": [
    "We got negative number for the lower limit again, but this still should not be a problem for the same reasons."
   ]
  },
  {
   "cell_type": "code",
   "execution_count": 39,
   "metadata": {},
   "outputs": [
    {
     "data": {
      "text/plain": [
       "(345745, 15)"
      ]
     },
     "execution_count": 39,
     "metadata": {},
     "output_type": "execute_result"
    }
   ],
   "source": [
    "# Check shape of DF before altering\n",
    "\n",
    "df_no_outliers.shape"
   ]
  },
  {
   "cell_type": "code",
   "execution_count": 40,
   "metadata": {},
   "outputs": [
    {
     "data": {
      "text/plain": [
       "(345615, 15)"
      ]
     },
     "execution_count": 40,
     "metadata": {},
     "output_type": "execute_result"
    }
   ],
   "source": [
    "# Remove outliers with mask then check shape of DF to ensure we have fewer rows\n",
    "\n",
    "baths_outlier_mask = (df_no_outliers.baths > baths_lower_range) & (df_no_outliers.baths < beds_upper_range)\n",
    "\n",
    "df_no_outliers = df_no_outliers[baths_outlier_mask]\n",
    "\n",
    "df_no_outliers.shape"
   ]
  },
  {
   "cell_type": "markdown",
   "metadata": {},
   "source": [
    "Now that we have removed the outliers from both the beds and baths columns, let's look at the boxplots again as well as the histograms."
   ]
  },
  {
   "cell_type": "code",
   "execution_count": 41,
   "metadata": {},
   "outputs": [
    {
     "data": {
      "text/plain": [
       "<AxesSubplot:ylabel='beds'>"
      ]
     },
     "execution_count": 41,
     "metadata": {},
     "output_type": "execute_result"
    },
    {
     "data": {
      "image/png": "[encoded data removed]",
      "text/plain": [
       "<Figure size 432x288 with 1 Axes>"
      ]
     },
     "metadata": {
      "needs_background": "light"
     },
     "output_type": "display_data"
    }
   ],
   "source": [
    "# Use seaborn to create a boxplot of the beds column\n",
    "\n",
    "sns.boxplot(y=df_no_outliers.beds)"
   ]
  },
  {
   "cell_type": "code",
   "execution_count": 42,
   "metadata": {},
   "outputs": [
    {
     "data": {
      "text/plain": [
       "<AxesSubplot:xlabel='beds', ylabel='Count'>"
      ]
     },
     "execution_count": 42,
     "metadata": {},
     "output_type": "execute_result"
    },
    {
     "data": {
      "image/png": "[encoded data removed]",
      "text/plain": [
       "<Figure size 432x288 with 1 Axes>"
      ]
     },
     "metadata": {
      "needs_background": "light"
     },
     "output_type": "display_data"
    }
   ],
   "source": [
    "# Use seaborn to create a histogram of the beds column\n",
    "\n",
    "sns.histplot(df_no_outliers.beds, discrete=True)"
   ]
  },
  {
   "cell_type": "code",
   "execution_count": 43,
   "metadata": {},
   "outputs": [
    {
     "data": {
      "text/plain": [
       "<AxesSubplot:ylabel='baths'>"
      ]
     },
     "execution_count": 43,
     "metadata": {},
     "output_type": "execute_result"
    },
    {
     "data": {
      "image/png": "[encoded data removed]",
      "text/plain": [
       "<Figure size 432x288 with 1 Axes>"
      ]
     },
     "metadata": {
      "needs_background": "light"
     },
     "output_type": "display_data"
    }
   ],
   "source": [
    "# Use seaborn to create a boxplot of the baths column\n",
    "\n",
    "sns.boxplot(y=df_no_outliers.baths)"
   ]
  },
  {
   "cell_type": "code",
   "execution_count": 44,
   "metadata": {},
   "outputs": [
    {
     "data": {
      "text/plain": [
       "<AxesSubplot:xlabel='baths', ylabel='Count'>"
      ]
     },
     "execution_count": 44,
     "metadata": {},
     "output_type": "execute_result"
    },
    {
     "data": {
      "image/png": "[encoded data removed]",
      "text/plain": [
       "<Figure size 432x288 with 1 Axes>"
      ]
     },
     "metadata": {
      "needs_background": "light"
     },
     "output_type": "display_data"
    }
   ],
   "source": [
    "# Use seaborn to create a histogram of the baths column\n",
    "\n",
    "sns.histplot(df_no_outliers.baths, discrete=True)"
   ]
  },
  {
   "cell_type": "markdown",
   "metadata": {},
   "source": [
    "Let's ensure that we have removed the outliers from all columns."
   ]
  },
  {
   "cell_type": "code",
   "execution_count": 45,
   "metadata": {},
   "outputs": [
    {
     "data": {
      "text/html": [
       "<div>\n",
       "<style scoped>\n",
       "    .dataframe tbody tr th:only-of-type {\n",
       "        vertical-align: middle;\n",
       "    }\n",
       "\n",
       "    .dataframe tbody tr th {\n",
       "        vertical-align: top;\n",
       "    }\n",
       "\n",
       "    .dataframe thead th {\n",
       "        text-align: right;\n",
       "    }\n",
       "</style>\n",
       "<table border=\"1\" class=\"dataframe\">\n",
       "  <thead>\n",
       "    <tr style=\"text-align: right;\">\n",
       "      <th></th>\n",
       "      <th>price</th>\n",
       "      <th>sqfeet</th>\n",
       "      <th>beds</th>\n",
       "      <th>baths</th>\n",
       "      <th>cats_allowed</th>\n",
       "      <th>dogs_allowed</th>\n",
       "      <th>smoking_allowed</th>\n",
       "      <th>wheelchair_access</th>\n",
       "      <th>electric_vehicle_charge</th>\n",
       "      <th>comes_furnished</th>\n",
       "      <th>lat</th>\n",
       "      <th>long</th>\n",
       "    </tr>\n",
       "  </thead>\n",
       "  <tbody>\n",
       "    <tr>\n",
       "      <th>count</th>\n",
       "      <td>345615.000000</td>\n",
       "      <td>345615.000000</td>\n",
       "      <td>345615.000000</td>\n",
       "      <td>345615.000000</td>\n",
       "      <td>345615.000000</td>\n",
       "      <td>345615.000000</td>\n",
       "      <td>345615.000000</td>\n",
       "      <td>345615.000000</td>\n",
       "      <td>345615.000000</td>\n",
       "      <td>345615.000000</td>\n",
       "      <td>344147.000000</td>\n",
       "      <td>344147.000000</td>\n",
       "    </tr>\n",
       "    <tr>\n",
       "      <th>mean</th>\n",
       "      <td>1079.522767</td>\n",
       "      <td>924.854873</td>\n",
       "      <td>1.769281</td>\n",
       "      <td>1.411157</td>\n",
       "      <td>0.740981</td>\n",
       "      <td>0.718667</td>\n",
       "      <td>0.745888</td>\n",
       "      <td>0.077609</td>\n",
       "      <td>0.009866</td>\n",
       "      <td>0.039738</td>\n",
       "      <td>37.214009</td>\n",
       "      <td>-92.204069</td>\n",
       "    </tr>\n",
       "    <tr>\n",
       "      <th>std</th>\n",
       "      <td>389.843593</td>\n",
       "      <td>259.078384</td>\n",
       "      <td>0.747876</td>\n",
       "      <td>0.519727</td>\n",
       "      <td>0.438097</td>\n",
       "      <td>0.449650</td>\n",
       "      <td>0.435362</td>\n",
       "      <td>0.267556</td>\n",
       "      <td>0.098839</td>\n",
       "      <td>0.195343</td>\n",
       "      <td>5.515996</td>\n",
       "      <td>16.019573</td>\n",
       "    </tr>\n",
       "    <tr>\n",
       "      <th>min</th>\n",
       "      <td>0.000000</td>\n",
       "      <td>188.000000</td>\n",
       "      <td>0.000000</td>\n",
       "      <td>0.000000</td>\n",
       "      <td>0.000000</td>\n",
       "      <td>0.000000</td>\n",
       "      <td>0.000000</td>\n",
       "      <td>0.000000</td>\n",
       "      <td>0.000000</td>\n",
       "      <td>0.000000</td>\n",
       "      <td>-40.266600</td>\n",
       "      <td>-163.894000</td>\n",
       "    </tr>\n",
       "    <tr>\n",
       "      <th>25%</th>\n",
       "      <td>799.000000</td>\n",
       "      <td>738.000000</td>\n",
       "      <td>1.000000</td>\n",
       "      <td>1.000000</td>\n",
       "      <td>0.000000</td>\n",
       "      <td>0.000000</td>\n",
       "      <td>0.000000</td>\n",
       "      <td>0.000000</td>\n",
       "      <td>0.000000</td>\n",
       "      <td>0.000000</td>\n",
       "      <td>33.418800</td>\n",
       "      <td>-98.235900</td>\n",
       "    </tr>\n",
       "    <tr>\n",
       "      <th>50%</th>\n",
       "      <td>1000.000000</td>\n",
       "      <td>912.000000</td>\n",
       "      <td>2.000000</td>\n",
       "      <td>1.000000</td>\n",
       "      <td>1.000000</td>\n",
       "      <td>1.000000</td>\n",
       "      <td>1.000000</td>\n",
       "      <td>0.000000</td>\n",
       "      <td>0.000000</td>\n",
       "      <td>0.000000</td>\n",
       "      <td>37.540200</td>\n",
       "      <td>-87.533400</td>\n",
       "    </tr>\n",
       "    <tr>\n",
       "      <th>75%</th>\n",
       "      <td>1311.000000</td>\n",
       "      <td>1098.000000</td>\n",
       "      <td>2.000000</td>\n",
       "      <td>2.000000</td>\n",
       "      <td>1.000000</td>\n",
       "      <td>1.000000</td>\n",
       "      <td>1.000000</td>\n",
       "      <td>0.000000</td>\n",
       "      <td>0.000000</td>\n",
       "      <td>0.000000</td>\n",
       "      <td>41.137900</td>\n",
       "      <td>-81.252000</td>\n",
       "    </tr>\n",
       "    <tr>\n",
       "      <th>max</th>\n",
       "      <td>2279.000000</td>\n",
       "      <td>1687.000000</td>\n",
       "      <td>3.000000</td>\n",
       "      <td>3.000000</td>\n",
       "      <td>1.000000</td>\n",
       "      <td>1.000000</td>\n",
       "      <td>1.000000</td>\n",
       "      <td>1.000000</td>\n",
       "      <td>1.000000</td>\n",
       "      <td>1.000000</td>\n",
       "      <td>102.036000</td>\n",
       "      <td>94.156100</td>\n",
       "    </tr>\n",
       "  </tbody>\n",
       "</table>\n",
       "</div>"
      ],
      "text/plain": [
       "               price         sqfeet           beds          baths  \\\n",
       "count  345615.000000  345615.000000  345615.000000  345615.000000   \n",
       "mean     1079.522767     924.854873       1.769281       1.411157   \n",
       "std       389.843593     259.078384       0.747876       0.519727   \n",
       "min         0.000000     188.000000       0.000000       0.000000   \n",
       "25%       799.000000     738.000000       1.000000       1.000000   \n",
       "50%      1000.000000     912.000000       2.000000       1.000000   \n",
       "75%      1311.000000    1098.000000       2.000000       2.000000   \n",
       "max      2279.000000    1687.000000       3.000000       3.000000   \n",
       "\n",
       "        cats_allowed   dogs_allowed  smoking_allowed  wheelchair_access  \\\n",
       "count  345615.000000  345615.000000    345615.000000      345615.000000   \n",
       "mean        0.740981       0.718667         0.745888           0.077609   \n",
       "std         0.438097       0.449650         0.435362           0.267556   \n",
       "min         0.000000       0.000000         0.000000           0.000000   \n",
       "25%         0.000000       0.000000         0.000000           0.000000   \n",
       "50%         1.000000       1.000000         1.000000           0.000000   \n",
       "75%         1.000000       1.000000         1.000000           0.000000   \n",
       "max         1.000000       1.000000         1.000000           1.000000   \n",
       "\n",
       "       electric_vehicle_charge  comes_furnished            lat           long  \n",
       "count            345615.000000    345615.000000  344147.000000  344147.000000  \n",
       "mean                  0.009866         0.039738      37.214009     -92.204069  \n",
       "std                   0.098839         0.195343       5.515996      16.019573  \n",
       "min                   0.000000         0.000000     -40.266600    -163.894000  \n",
       "25%                   0.000000         0.000000      33.418800     -98.235900  \n",
       "50%                   0.000000         0.000000      37.540200     -87.533400  \n",
       "75%                   0.000000         0.000000      41.137900     -81.252000  \n",
       "max                   1.000000         1.000000     102.036000      94.156100  "
      ]
     },
     "execution_count": 45,
     "metadata": {},
     "output_type": "execute_result"
    }
   ],
   "source": [
    "df_no_outliers.describe()"
   ]
  },
  {
   "cell_type": "markdown",
   "metadata": {},
   "source": [
    "Now that we have trimmed *and* cleaned the data, let's export it to another CSV file."
   ]
  },
  {
   "cell_type": "code",
   "execution_count": 46,
   "metadata": {},
   "outputs": [],
   "source": [
    "# Write trimmed/cleaned DF to new CSV file\n",
    "\n",
    "df_no_outliers.to_csv('data\\housing_cleaned.csv')"
   ]
  },
  {
   "cell_type": "code",
   "execution_count": 47,
   "metadata": {},
   "outputs": [
    {
     "name": "stdout",
     "output_type": "stream",
     "text": [
      " Volume in drive C is Acer\n",
      " Volume Serial Number is E4EC-476E\n",
      "\n",
      " Directory of c:\\Users\\Marshall\\Documents\\projects\\usa-housing-data-analysis\\data\n",
      "\n",
      "02/18/2022  02:52 PM    <DIR>          .\n",
      "02/18/2022  02:52 PM    <DIR>          ..\n",
      "02/14/2022  10:47 AM       558,438,401 housing.csv\n",
      "02/21/2022  05:42 AM        26,509,577 housing_cleaned.csv\n",
      "02/21/2022  05:41 AM        29,488,791 housing_trimmed.csv\n",
      "               3 File(s)    614,436,769 bytes\n",
      "               2 Dir(s)  346,471,264,256 bytes free\n"
     ]
    }
   ],
   "source": [
    "# Show contents of data directory to ensure CSV file was created\n",
    "\n",
    "!dir \"data/\""
   ]
  },
  {
   "cell_type": "markdown",
   "metadata": {},
   "source": [
    "Let's create a correaltion matrix to see which columns have the most impact on a housing unit's price."
   ]
  },
  {
   "cell_type": "code",
   "execution_count": 48,
   "metadata": {},
   "outputs": [
    {
     "data": {
      "text/html": [
       "<div>\n",
       "<style scoped>\n",
       "    .dataframe tbody tr th:only-of-type {\n",
       "        vertical-align: middle;\n",
       "    }\n",
       "\n",
       "    .dataframe tbody tr th {\n",
       "        vertical-align: top;\n",
       "    }\n",
       "\n",
       "    .dataframe thead th {\n",
       "        text-align: right;\n",
       "    }\n",
       "</style>\n",
       "<table border=\"1\" class=\"dataframe\">\n",
       "  <thead>\n",
       "    <tr style=\"text-align: right;\">\n",
       "      <th></th>\n",
       "      <th>price</th>\n",
       "      <th>sqfeet</th>\n",
       "      <th>beds</th>\n",
       "      <th>baths</th>\n",
       "      <th>cats_allowed</th>\n",
       "      <th>dogs_allowed</th>\n",
       "      <th>smoking_allowed</th>\n",
       "      <th>wheelchair_access</th>\n",
       "      <th>electric_vehicle_charge</th>\n",
       "      <th>comes_furnished</th>\n",
       "      <th>lat</th>\n",
       "      <th>long</th>\n",
       "    </tr>\n",
       "  </thead>\n",
       "  <tbody>\n",
       "    <tr>\n",
       "      <th>price</th>\n",
       "      <td>1.000000</td>\n",
       "      <td>0.308511</td>\n",
       "      <td>0.150170</td>\n",
       "      <td>0.235953</td>\n",
       "      <td>0.019590</td>\n",
       "      <td>0.015321</td>\n",
       "      <td>-0.128106</td>\n",
       "      <td>0.053327</td>\n",
       "      <td>0.084590</td>\n",
       "      <td>-0.038724</td>\n",
       "      <td>0.058803</td>\n",
       "      <td>-0.145516</td>\n",
       "    </tr>\n",
       "    <tr>\n",
       "      <th>sqfeet</th>\n",
       "      <td>0.308511</td>\n",
       "      <td>1.000000</td>\n",
       "      <td>0.772222</td>\n",
       "      <td>0.652715</td>\n",
       "      <td>-0.022777</td>\n",
       "      <td>0.008688</td>\n",
       "      <td>0.004622</td>\n",
       "      <td>-0.032759</td>\n",
       "      <td>-0.006311</td>\n",
       "      <td>-0.078572</td>\n",
       "      <td>0.002489</td>\n",
       "      <td>0.119536</td>\n",
       "    </tr>\n",
       "    <tr>\n",
       "      <th>beds</th>\n",
       "      <td>0.150170</td>\n",
       "      <td>0.772222</td>\n",
       "      <td>1.000000</td>\n",
       "      <td>0.603319</td>\n",
       "      <td>-0.036227</td>\n",
       "      <td>-0.008084</td>\n",
       "      <td>0.023319</td>\n",
       "      <td>-0.052351</td>\n",
       "      <td>-0.022243</td>\n",
       "      <td>-0.057184</td>\n",
       "      <td>0.029302</td>\n",
       "      <td>0.051054</td>\n",
       "    </tr>\n",
       "    <tr>\n",
       "      <th>baths</th>\n",
       "      <td>0.235953</td>\n",
       "      <td>0.652715</td>\n",
       "      <td>0.603319</td>\n",
       "      <td>1.000000</td>\n",
       "      <td>0.025856</td>\n",
       "      <td>0.056891</td>\n",
       "      <td>0.010465</td>\n",
       "      <td>0.009864</td>\n",
       "      <td>-0.001580</td>\n",
       "      <td>-0.015214</td>\n",
       "      <td>-0.092008</td>\n",
       "      <td>0.024713</td>\n",
       "    </tr>\n",
       "    <tr>\n",
       "      <th>cats_allowed</th>\n",
       "      <td>0.019590</td>\n",
       "      <td>-0.022777</td>\n",
       "      <td>-0.036227</td>\n",
       "      <td>0.025856</td>\n",
       "      <td>1.000000</td>\n",
       "      <td>0.891163</td>\n",
       "      <td>0.003847</td>\n",
       "      <td>0.117934</td>\n",
       "      <td>0.041580</td>\n",
       "      <td>-0.048301</td>\n",
       "      <td>-0.015655</td>\n",
       "      <td>0.026858</td>\n",
       "    </tr>\n",
       "    <tr>\n",
       "      <th>dogs_allowed</th>\n",
       "      <td>0.015321</td>\n",
       "      <td>0.008688</td>\n",
       "      <td>-0.008084</td>\n",
       "      <td>0.056891</td>\n",
       "      <td>0.891163</td>\n",
       "      <td>1.000000</td>\n",
       "      <td>0.005852</td>\n",
       "      <td>0.124753</td>\n",
       "      <td>0.042731</td>\n",
       "      <td>-0.029488</td>\n",
       "      <td>-0.062695</td>\n",
       "      <td>0.013647</td>\n",
       "    </tr>\n",
       "    <tr>\n",
       "      <th>smoking_allowed</th>\n",
       "      <td>-0.128106</td>\n",
       "      <td>0.004622</td>\n",
       "      <td>0.023319</td>\n",
       "      <td>0.010465</td>\n",
       "      <td>0.003847</td>\n",
       "      <td>0.005852</td>\n",
       "      <td>1.000000</td>\n",
       "      <td>-0.217543</td>\n",
       "      <td>-0.076619</td>\n",
       "      <td>-0.155448</td>\n",
       "      <td>-0.187229</td>\n",
       "      <td>0.155624</td>\n",
       "    </tr>\n",
       "    <tr>\n",
       "      <th>wheelchair_access</th>\n",
       "      <td>0.053327</td>\n",
       "      <td>-0.032759</td>\n",
       "      <td>-0.052351</td>\n",
       "      <td>0.009864</td>\n",
       "      <td>0.117934</td>\n",
       "      <td>0.124753</td>\n",
       "      <td>-0.217543</td>\n",
       "      <td>1.000000</td>\n",
       "      <td>0.164375</td>\n",
       "      <td>0.198582</td>\n",
       "      <td>-0.002872</td>\n",
       "      <td>-0.023624</td>\n",
       "    </tr>\n",
       "    <tr>\n",
       "      <th>electric_vehicle_charge</th>\n",
       "      <td>0.084590</td>\n",
       "      <td>-0.006311</td>\n",
       "      <td>-0.022243</td>\n",
       "      <td>-0.001580</td>\n",
       "      <td>0.041580</td>\n",
       "      <td>0.042731</td>\n",
       "      <td>-0.076619</td>\n",
       "      <td>0.164375</td>\n",
       "      <td>1.000000</td>\n",
       "      <td>0.073805</td>\n",
       "      <td>0.034412</td>\n",
       "      <td>-0.036759</td>\n",
       "    </tr>\n",
       "    <tr>\n",
       "      <th>comes_furnished</th>\n",
       "      <td>-0.038724</td>\n",
       "      <td>-0.078572</td>\n",
       "      <td>-0.057184</td>\n",
       "      <td>-0.015214</td>\n",
       "      <td>-0.048301</td>\n",
       "      <td>-0.029488</td>\n",
       "      <td>-0.155448</td>\n",
       "      <td>0.198582</td>\n",
       "      <td>0.073805</td>\n",
       "      <td>1.000000</td>\n",
       "      <td>0.006381</td>\n",
       "      <td>-0.019656</td>\n",
       "    </tr>\n",
       "    <tr>\n",
       "      <th>lat</th>\n",
       "      <td>0.058803</td>\n",
       "      <td>0.002489</td>\n",
       "      <td>0.029302</td>\n",
       "      <td>-0.092008</td>\n",
       "      <td>-0.015655</td>\n",
       "      <td>-0.062695</td>\n",
       "      <td>-0.187229</td>\n",
       "      <td>-0.002872</td>\n",
       "      <td>0.034412</td>\n",
       "      <td>0.006381</td>\n",
       "      <td>1.000000</td>\n",
       "      <td>-0.158944</td>\n",
       "    </tr>\n",
       "    <tr>\n",
       "      <th>long</th>\n",
       "      <td>-0.145516</td>\n",
       "      <td>0.119536</td>\n",
       "      <td>0.051054</td>\n",
       "      <td>0.024713</td>\n",
       "      <td>0.026858</td>\n",
       "      <td>0.013647</td>\n",
       "      <td>0.155624</td>\n",
       "      <td>-0.023624</td>\n",
       "      <td>-0.036759</td>\n",
       "      <td>-0.019656</td>\n",
       "      <td>-0.158944</td>\n",
       "      <td>1.000000</td>\n",
       "    </tr>\n",
       "  </tbody>\n",
       "</table>\n",
       "</div>"
      ],
      "text/plain": [
       "                            price    sqfeet      beds     baths  cats_allowed  \\\n",
       "price                    1.000000  0.308511  0.150170  0.235953      0.019590   \n",
       "sqfeet                   0.308511  1.000000  0.772222  0.652715     -0.022777   \n",
       "beds                     0.150170  0.772222  1.000000  0.603319     -0.036227   \n",
       "baths                    0.235953  0.652715  0.603319  1.000000      0.025856   \n",
       "cats_allowed             0.019590 -0.022777 -0.036227  0.025856      1.000000   \n",
       "dogs_allowed             0.015321  0.008688 -0.008084  0.056891      0.891163   \n",
       "smoking_allowed         -0.128106  0.004622  0.023319  0.010465      0.003847   \n",
       "wheelchair_access        0.053327 -0.032759 -0.052351  0.009864      0.117934   \n",
       "electric_vehicle_charge  0.084590 -0.006311 -0.022243 -0.001580      0.041580   \n",
       "comes_furnished         -0.038724 -0.078572 -0.057184 -0.015214     -0.048301   \n",
       "lat                      0.058803  0.002489  0.029302 -0.092008     -0.015655   \n",
       "long                    -0.145516  0.119536  0.051054  0.024713      0.026858   \n",
       "\n",
       "                         dogs_allowed  smoking_allowed  wheelchair_access  \\\n",
       "price                        0.015321        -0.128106           0.053327   \n",
       "sqfeet                       0.008688         0.004622          -0.032759   \n",
       "beds                        -0.008084         0.023319          -0.052351   \n",
       "baths                        0.056891         0.010465           0.009864   \n",
       "cats_allowed                 0.891163         0.003847           0.117934   \n",
       "dogs_allowed                 1.000000         0.005852           0.124753   \n",
       "smoking_allowed              0.005852         1.000000          -0.217543   \n",
       "wheelchair_access            0.124753        -0.217543           1.000000   \n",
       "electric_vehicle_charge      0.042731        -0.076619           0.164375   \n",
       "comes_furnished             -0.029488        -0.155448           0.198582   \n",
       "lat                         -0.062695        -0.187229          -0.002872   \n",
       "long                         0.013647         0.155624          -0.023624   \n",
       "\n",
       "                         electric_vehicle_charge  comes_furnished       lat  \\\n",
       "price                                   0.084590        -0.038724  0.058803   \n",
       "sqfeet                                 -0.006311        -0.078572  0.002489   \n",
       "beds                                   -0.022243        -0.057184  0.029302   \n",
       "baths                                  -0.001580        -0.015214 -0.092008   \n",
       "cats_allowed                            0.041580        -0.048301 -0.015655   \n",
       "dogs_allowed                            0.042731        -0.029488 -0.062695   \n",
       "smoking_allowed                        -0.076619        -0.155448 -0.187229   \n",
       "wheelchair_access                       0.164375         0.198582 -0.002872   \n",
       "electric_vehicle_charge                 1.000000         0.073805  0.034412   \n",
       "comes_furnished                         0.073805         1.000000  0.006381   \n",
       "lat                                     0.034412         0.006381  1.000000   \n",
       "long                                   -0.036759        -0.019656 -0.158944   \n",
       "\n",
       "                             long  \n",
       "price                   -0.145516  \n",
       "sqfeet                   0.119536  \n",
       "beds                     0.051054  \n",
       "baths                    0.024713  \n",
       "cats_allowed             0.026858  \n",
       "dogs_allowed             0.013647  \n",
       "smoking_allowed          0.155624  \n",
       "wheelchair_access       -0.023624  \n",
       "electric_vehicle_charge -0.036759  \n",
       "comes_furnished         -0.019656  \n",
       "lat                     -0.158944  \n",
       "long                     1.000000  "
      ]
     },
     "execution_count": 48,
     "metadata": {},
     "output_type": "execute_result"
    }
   ],
   "source": [
    "corr = df_no_outliers.corr()\n",
    "\n",
    "corr"
   ]
  },
  {
   "cell_type": "markdown",
   "metadata": {},
   "source": [
    "Let's filter out the lat and long columns."
   ]
  },
  {
   "cell_type": "code",
   "execution_count": 49,
   "metadata": {},
   "outputs": [
    {
     "data": {
      "text/html": [
       "<div>\n",
       "<style scoped>\n",
       "    .dataframe tbody tr th:only-of-type {\n",
       "        vertical-align: middle;\n",
       "    }\n",
       "\n",
       "    .dataframe tbody tr th {\n",
       "        vertical-align: top;\n",
       "    }\n",
       "\n",
       "    .dataframe thead th {\n",
       "        text-align: right;\n",
       "    }\n",
       "</style>\n",
       "<table border=\"1\" class=\"dataframe\">\n",
       "  <thead>\n",
       "    <tr style=\"text-align: right;\">\n",
       "      <th></th>\n",
       "      <th>price</th>\n",
       "      <th>sqfeet</th>\n",
       "      <th>beds</th>\n",
       "      <th>baths</th>\n",
       "      <th>cats_allowed</th>\n",
       "      <th>dogs_allowed</th>\n",
       "      <th>smoking_allowed</th>\n",
       "      <th>wheelchair_access</th>\n",
       "      <th>electric_vehicle_charge</th>\n",
       "      <th>comes_furnished</th>\n",
       "    </tr>\n",
       "  </thead>\n",
       "  <tbody>\n",
       "    <tr>\n",
       "      <th>price</th>\n",
       "      <td>1.000000</td>\n",
       "      <td>0.308511</td>\n",
       "      <td>0.150170</td>\n",
       "      <td>0.235953</td>\n",
       "      <td>0.019590</td>\n",
       "      <td>0.015321</td>\n",
       "      <td>-0.128106</td>\n",
       "      <td>0.053327</td>\n",
       "      <td>0.084590</td>\n",
       "      <td>-0.038724</td>\n",
       "    </tr>\n",
       "    <tr>\n",
       "      <th>sqfeet</th>\n",
       "      <td>0.308511</td>\n",
       "      <td>1.000000</td>\n",
       "      <td>0.772222</td>\n",
       "      <td>0.652715</td>\n",
       "      <td>-0.022777</td>\n",
       "      <td>0.008688</td>\n",
       "      <td>0.004622</td>\n",
       "      <td>-0.032759</td>\n",
       "      <td>-0.006311</td>\n",
       "      <td>-0.078572</td>\n",
       "    </tr>\n",
       "    <tr>\n",
       "      <th>beds</th>\n",
       "      <td>0.150170</td>\n",
       "      <td>0.772222</td>\n",
       "      <td>1.000000</td>\n",
       "      <td>0.603319</td>\n",
       "      <td>-0.036227</td>\n",
       "      <td>-0.008084</td>\n",
       "      <td>0.023319</td>\n",
       "      <td>-0.052351</td>\n",
       "      <td>-0.022243</td>\n",
       "      <td>-0.057184</td>\n",
       "    </tr>\n",
       "    <tr>\n",
       "      <th>baths</th>\n",
       "      <td>0.235953</td>\n",
       "      <td>0.652715</td>\n",
       "      <td>0.603319</td>\n",
       "      <td>1.000000</td>\n",
       "      <td>0.025856</td>\n",
       "      <td>0.056891</td>\n",
       "      <td>0.010465</td>\n",
       "      <td>0.009864</td>\n",
       "      <td>-0.001580</td>\n",
       "      <td>-0.015214</td>\n",
       "    </tr>\n",
       "    <tr>\n",
       "      <th>cats_allowed</th>\n",
       "      <td>0.019590</td>\n",
       "      <td>-0.022777</td>\n",
       "      <td>-0.036227</td>\n",
       "      <td>0.025856</td>\n",
       "      <td>1.000000</td>\n",
       "      <td>0.891163</td>\n",
       "      <td>0.003847</td>\n",
       "      <td>0.117934</td>\n",
       "      <td>0.041580</td>\n",
       "      <td>-0.048301</td>\n",
       "    </tr>\n",
       "    <tr>\n",
       "      <th>dogs_allowed</th>\n",
       "      <td>0.015321</td>\n",
       "      <td>0.008688</td>\n",
       "      <td>-0.008084</td>\n",
       "      <td>0.056891</td>\n",
       "      <td>0.891163</td>\n",
       "      <td>1.000000</td>\n",
       "      <td>0.005852</td>\n",
       "      <td>0.124753</td>\n",
       "      <td>0.042731</td>\n",
       "      <td>-0.029488</td>\n",
       "    </tr>\n",
       "    <tr>\n",
       "      <th>smoking_allowed</th>\n",
       "      <td>-0.128106</td>\n",
       "      <td>0.004622</td>\n",
       "      <td>0.023319</td>\n",
       "      <td>0.010465</td>\n",
       "      <td>0.003847</td>\n",
       "      <td>0.005852</td>\n",
       "      <td>1.000000</td>\n",
       "      <td>-0.217543</td>\n",
       "      <td>-0.076619</td>\n",
       "      <td>-0.155448</td>\n",
       "    </tr>\n",
       "    <tr>\n",
       "      <th>wheelchair_access</th>\n",
       "      <td>0.053327</td>\n",
       "      <td>-0.032759</td>\n",
       "      <td>-0.052351</td>\n",
       "      <td>0.009864</td>\n",
       "      <td>0.117934</td>\n",
       "      <td>0.124753</td>\n",
       "      <td>-0.217543</td>\n",
       "      <td>1.000000</td>\n",
       "      <td>0.164375</td>\n",
       "      <td>0.198582</td>\n",
       "    </tr>\n",
       "    <tr>\n",
       "      <th>electric_vehicle_charge</th>\n",
       "      <td>0.084590</td>\n",
       "      <td>-0.006311</td>\n",
       "      <td>-0.022243</td>\n",
       "      <td>-0.001580</td>\n",
       "      <td>0.041580</td>\n",
       "      <td>0.042731</td>\n",
       "      <td>-0.076619</td>\n",
       "      <td>0.164375</td>\n",
       "      <td>1.000000</td>\n",
       "      <td>0.073805</td>\n",
       "    </tr>\n",
       "    <tr>\n",
       "      <th>comes_furnished</th>\n",
       "      <td>-0.038724</td>\n",
       "      <td>-0.078572</td>\n",
       "      <td>-0.057184</td>\n",
       "      <td>-0.015214</td>\n",
       "      <td>-0.048301</td>\n",
       "      <td>-0.029488</td>\n",
       "      <td>-0.155448</td>\n",
       "      <td>0.198582</td>\n",
       "      <td>0.073805</td>\n",
       "      <td>1.000000</td>\n",
       "    </tr>\n",
       "  </tbody>\n",
       "</table>\n",
       "</div>"
      ],
      "text/plain": [
       "                            price    sqfeet      beds     baths  cats_allowed  \\\n",
       "price                    1.000000  0.308511  0.150170  0.235953      0.019590   \n",
       "sqfeet                   0.308511  1.000000  0.772222  0.652715     -0.022777   \n",
       "beds                     0.150170  0.772222  1.000000  0.603319     -0.036227   \n",
       "baths                    0.235953  0.652715  0.603319  1.000000      0.025856   \n",
       "cats_allowed             0.019590 -0.022777 -0.036227  0.025856      1.000000   \n",
       "dogs_allowed             0.015321  0.008688 -0.008084  0.056891      0.891163   \n",
       "smoking_allowed         -0.128106  0.004622  0.023319  0.010465      0.003847   \n",
       "wheelchair_access        0.053327 -0.032759 -0.052351  0.009864      0.117934   \n",
       "electric_vehicle_charge  0.084590 -0.006311 -0.022243 -0.001580      0.041580   \n",
       "comes_furnished         -0.038724 -0.078572 -0.057184 -0.015214     -0.048301   \n",
       "\n",
       "                         dogs_allowed  smoking_allowed  wheelchair_access  \\\n",
       "price                        0.015321        -0.128106           0.053327   \n",
       "sqfeet                       0.008688         0.004622          -0.032759   \n",
       "beds                        -0.008084         0.023319          -0.052351   \n",
       "baths                        0.056891         0.010465           0.009864   \n",
       "cats_allowed                 0.891163         0.003847           0.117934   \n",
       "dogs_allowed                 1.000000         0.005852           0.124753   \n",
       "smoking_allowed              0.005852         1.000000          -0.217543   \n",
       "wheelchair_access            0.124753        -0.217543           1.000000   \n",
       "electric_vehicle_charge      0.042731        -0.076619           0.164375   \n",
       "comes_furnished             -0.029488        -0.155448           0.198582   \n",
       "\n",
       "                         electric_vehicle_charge  comes_furnished  \n",
       "price                                   0.084590        -0.038724  \n",
       "sqfeet                                 -0.006311        -0.078572  \n",
       "beds                                   -0.022243        -0.057184  \n",
       "baths                                  -0.001580        -0.015214  \n",
       "cats_allowed                            0.041580        -0.048301  \n",
       "dogs_allowed                            0.042731        -0.029488  \n",
       "smoking_allowed                        -0.076619        -0.155448  \n",
       "wheelchair_access                       0.164375         0.198582  \n",
       "electric_vehicle_charge                 1.000000         0.073805  \n",
       "comes_furnished                         0.073805         1.000000  "
      ]
     },
     "execution_count": 49,
     "metadata": {},
     "output_type": "execute_result"
    }
   ],
   "source": [
    "corr = df_no_outliers.drop(['lat', 'long'], axis=1).corr()\n",
    "\n",
    "corr"
   ]
  },
  {
   "cell_type": "markdown",
   "metadata": {},
   "source": [
    "It looks like sqfeet has the most impact on price, followed by baths and then beds. Let's visualize this with a heatmap."
   ]
  },
  {
   "cell_type": "code",
   "execution_count": 50,
   "metadata": {},
   "outputs": [
    {
     "data": {
      "text/plain": [
       "<AxesSubplot:>"
      ]
     },
     "execution_count": 50,
     "metadata": {},
     "output_type": "execute_result"
    },
    {
     "data": {
      "image/png": "[encoded data removed]",
      "text/plain": [
       "<Figure size 720x720 with 2 Axes>"
      ]
     },
     "metadata": {
      "needs_background": "light"
     },
     "output_type": "display_data"
    }
   ],
   "source": [
    "fig, ax = plt.subplots(figsize=[10, 10])\n",
    "\n",
    "sns.heatmap(corr, ax=ax, annot=True, square=True)"
   ]
  }
 ],
 "metadata": {
  "interpreter": {
   "hash": "590bb9acbdd23f43ccecca7f96a63330f77153c349df4719fc373788bfd8ab7b"
  },
  "kernelspec": {
   "display_name": "Python 3.8.5 ('base')",
   "language": "python",
   "name": "python3"
  },
  "language_info": {
   "codemirror_mode": {
    "name": "ipython",
    "version": 3
   },
   "file_extension": ".py",
   "mimetype": "text/x-python",
   "name": "python",
   "nbconvert_exporter": "python",
   "pygments_lexer": "ipython3",
   "version": "3.8.5"
  },
  "orig_nbformat": 4
 },
 "nbformat": 4,
 "nbformat_minor": 2
}
